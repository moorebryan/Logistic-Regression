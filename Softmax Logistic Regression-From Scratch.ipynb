{
 "cells": [
  {
   "cell_type": "markdown",
   "metadata": {},
   "source": [
    "Load Modules"
   ]
  },
  {
   "cell_type": "code",
   "execution_count": 1,
   "metadata": {},
   "outputs": [],
   "source": [
    "#Soft max regression classifier\n",
    "import pandas as pd\n",
    "import numpy as np\n",
    "import math\n",
    "import os\n",
    "import matplotlib.pyplot as plt\n",
    "\n",
    "%matplotlib inline\n",
    "import warnings\n",
    "import operator\n",
    "import seaborn as sns\n",
    "\n",
    "# The below suppresses all warnings in the notebook\n",
    "# Only leave this uncommented for display purposes\n",
    "import warnings\n",
    "warnings.filterwarnings(\"ignore\")"
   ]
  },
  {
   "cell_type": "markdown",
   "metadata": {},
   "source": [
    "Implement function to implement one-hot labeling"
   ]
  },
  {
   "cell_type": "code",
   "execution_count": 2,
   "metadata": {},
   "outputs": [],
   "source": [
    "def onehotlabels(Y):\n",
    "    dict_label={}\n",
    "    labels = list(Y)\n",
    "    Y_one_hot=[]\n",
    "    unique_labels=list(set(labels))\n",
    "    n_values = np.max(unique_labels) + 1\n",
    "    Y_binary_code=np.eye(n_values, dtype=int)[unique_labels]\n",
    "    for i in range(len(unique_labels)):\n",
    "        dict_label[i]=Y_binary_code[i][:]\n",
    "    \n",
    "    # now associate dict label with class\n",
    "    for i in range(Y.shape[0]):\n",
    "        key=Y[i]\n",
    "        value=dict_label.get(key) \n",
    "        Y_one_hot.append(value)\n",
    "    return np.asarray(Y_one_hot)"
   ]
  },
  {
   "cell_type": "markdown",
   "metadata": {},
   "source": [
    "Initialize function to count number of TP, TN, FP, and FN"
   ]
  },
  {
   "cell_type": "code",
   "execution_count": 3,
   "metadata": {},
   "outputs": [],
   "source": [
    "def eval_bins(label,prediction):\n",
    "    true_positives = 0\n",
    "    false_positives = 0\n",
    "    true_negatives = 0\n",
    "    false_negatives = 0\n",
    "    for i in range(0,len(label)):\n",
    "        if prediction[i]==1:\n",
    "            if prediction[i]==label[i]:\n",
    "                true_positives+=1\n",
    "            else:\n",
    "                false_positives+=1\n",
    "        else:\n",
    "            if prediction[i]==label[i]:\n",
    "                true_negatives+=1\n",
    "            else:\n",
    "                false_negatives+=1\n",
    "    return  true_positives,true_negatives,false_positives,false_negatives"
   ]
  },
  {
   "cell_type": "markdown",
   "metadata": {},
   "source": [
    "This definition to find accuracy"
   ]
  },
  {
   "cell_type": "code",
   "execution_count": 4,
   "metadata": {},
   "outputs": [],
   "source": [
    "def find_accuracy(label,prediction):\n",
    "    #label =list vector of true labels\n",
    "    #prediction=list vector of predicted labels\n",
    "    tp,tn,fp,fn=eval_bins(label,prediction)\n",
    "    #ratio of correctly predicted observations to total observations\n",
    "    accuracy=(tp+tn)/(tp+tn+fp+fn)\n",
    "    return accuracy"
   ]
  },
  {
   "cell_type": "markdown",
   "metadata": {},
   "source": [
    "This definition calculates the softmax scores"
   ]
  },
  {
   "cell_type": "code",
   "execution_count": 5,
   "metadata": {},
   "outputs": [],
   "source": [
    "def softmax(scores):\n",
    "    pred_array = np.exp(scores)\n",
    "    # Now normalize such that total probability for each sample sums to 1\n",
    "    pred_array/pred_array.sum(axis=1)[:,None]\n",
    "    return pred_array"
   ]
  },
  {
   "cell_type": "markdown",
   "metadata": {},
   "source": [
    "Implement function to calculate cross-entropy loss"
   ]
  },
  {
   "cell_type": "code",
   "execution_count": 6,
   "metadata": {},
   "outputs": [],
   "source": [
    "def cross_entropy_loss(Y_one_hot,Y_proba):\n",
    "    loss_sum = 0\n",
    "    for i in range(Y_one_hot.shape[1]): # Go through each class\n",
    "        loss_sum += sum(Y_one_hot[:,i]*np.log(Y_proba[:,i]))\n",
    "    return -loss_sum.mean()"
   ]
  },
  {
   "cell_type": "markdown",
   "metadata": {},
   "source": [
    "Implement function to calculate cross-entropy loss with L1 Regularization"
   ]
  },
  {
   "cell_type": "code",
   "execution_count": 7,
   "metadata": {},
   "outputs": [],
   "source": [
    "def cross_entropy_loss_l1(Y_true, Y_pred,lamb,theta):\n",
    "    # lamb is the regularization parameter\n",
    "    # theta contains the weights\n",
    "    \n",
    "    # Note bias term excluded for regularized addition term\n",
    "    theta_sum = sum([theta[index,:] for index in range(1,theta.shape[0])]) # Create column Vector\n",
    "    theta_sum = sum(theta_sum) # Sum into single number\n",
    "    cost = cross_entropy_loss(Y_true,Y_pred) + lamb/2*theta_sum\n",
    "    \n",
    "    return cost"
   ]
  },
  {
   "cell_type": "markdown",
   "metadata": {},
   "source": [
    "Implement function to calculate cross-entropy loss with L2 Regularization"
   ]
  },
  {
   "cell_type": "code",
   "execution_count": 8,
   "metadata": {},
   "outputs": [],
   "source": [
    "def cross_entropy_loss_l2(Y_true, Y_pred,lamb,theta):\n",
    "    # lamb is the regularization parameter\n",
    "    # theta contains the weights\n",
    "    \n",
    "    # Note bias term excluded for regularized addition term\n",
    "    theta_sum_sqrd = sum([theta[index]**2 for index in range(1,theta.shape[0])])\n",
    "    theta_sum_sqrd = sum(theta_sum_sqrd)\n",
    "    cost = cross_entropy_loss(Y_true,Y_pred) + lamb/2*theta_sum_sqrd\n",
    "    \n",
    "    return cost"
   ]
  },
  {
   "cell_type": "markdown",
   "metadata": {},
   "source": [
    "Creates Softmax Logistic Regression Class"
   ]
  },
  {
   "cell_type": "code",
   "execution_count": 9,
   "metadata": {},
   "outputs": [],
   "source": [
    "class Softmax_Regression(): \n",
    "    def __init__(self):\n",
    "        pass\n",
    "    \n",
    "    # This definition runs batch gradient descent\n",
    "    def run_batch_gradient_descent(self,X,Y,num_classes,m,n):\n",
    "        num_iterations=0\n",
    "        Y_one_hot=onehotlabels(Y.flatten())\n",
    "        while num_iterations<=epochs:\n",
    "            num_iterations+=1\n",
    "            Y_pred_proba=self.pred_prob(X)\n",
    "            diff_piece=Y_pred_proba-Y_one_hot # Column vector\n",
    "            inner_product = np.matmul(X.T,diff_piece)\n",
    "            inner_product=np.asarray(inner_product)#should have dimensions of self.theta\n",
    "            gradient=(self.learning_rate/m)*inner_product#should have dimensions of self.theta#check\n",
    "            if 'None' in self.regularizer:\n",
    "                #update rule\n",
    "                self.theta=self.theta-gradient\n",
    "                #using this new weight evaluate new prediction\n",
    "                Y_pred_proba=self.pred_prob(X)\n",
    "                #evaluate cross entropy loss\n",
    "                error=cross_entropy_loss(Y_one_hot,Y_pred_proba)\n",
    "            if ('l1' in regularizer):\n",
    "                self.theta=self.theta-gradient-(self.learning_rate*self.lambd/m)*np.sign(self.theta)\n",
    "                Y_pred_proba=self.pred_prob(X)\n",
    "                error=cross_entropy_loss_l1(Y_one_hot,Y_pred_proba,self.lambd,self.theta)\n",
    "            if ('l2' in regularizer):\n",
    "                self.theta=self.theta-gradient-(self.learning_rate*self.lambd/m)*np.sign(self.theta)\n",
    "                Y_pred_proba=self.pred_prob(X)\n",
    "                error=cross_entropy_loss_l2(Y_one_hot,Y_pred_proba,self.lambd,self.theta)\n",
    "                \n",
    "                # Each time check to see if error not decreasing significantly before looping back through\n",
    "            if ((num_iterations > 1) & ~('None' is self.tol)): # Can only check if not the first pass\n",
    "                if abs(error-previous_error) < self.tol:\n",
    "                    break # Break out if we are not improving our error significantly\n",
    "            previous_error = error    \n",
    "    \n",
    "    # This definition runs stochastic gradient descent\n",
    "    def run_stochastic_gradient_descent(self,X,Y,num_classes,m,n):\n",
    "        num_iterations=0\n",
    "        Y_one_hot=onehotlabels(Y.flatten())\n",
    "        while num_iterations<=epochs:\n",
    "            \n",
    "            random_index=np.random.randint(0,m)\n",
    "            X_i = X[random_index,:].reshape(1,X.shape[1])\n",
    "            Y_i = Y_one_hot[random_index,:]\n",
    "    \n",
    "            num_iterations+=1\n",
    "            Y_pred_proba=self.pred_prob(X_i)\n",
    "            diff_piece=Y_pred_proba-Y_i # Column vector\n",
    "            \n",
    "            inner_product = np.matmul(X_i.T,diff_piece)\n",
    "            inner_product=np.asarray(inner_product)#should have dimensions of self.theta\n",
    "            gradient=(self.learning_rate)*inner_product#should have dimensions of self.theta#check\n",
    "            if 'None' in self.regularizer:\n",
    "                #update rule\n",
    "                self.theta=self.theta-gradient\n",
    "                #using this new weight evaluate new prediction\n",
    "                Y_pred_proba=self.pred_prob(X)\n",
    "                #evaluate cross entropy loss\n",
    "                error=cross_entropy_loss(Y_one_hot,Y_pred_proba)\n",
    "            if ('l1' in regularizer):\n",
    "                self.theta=self.theta-gradient-(self.learning_rate*self.lambd/m)*np.sign(self.theta)\n",
    "                Y_pred_proba=self.pred_prob(X)\n",
    "                error=cross_entropy_loss_l1(Y_one_hot,Y_pred_proba,self.lambd,self.theta)\n",
    "            if ('l2' in regularizer):\n",
    "                self.theta=self.theta-gradient-(self.learning_rate*self.lambd/m)*np.sign(self.theta)\n",
    "                Y_pred_proba=self.pred_prob(X)\n",
    "                error=cross_entropy_loss_l2(Y_one_hot,Y_pred_proba,self.lambd,self.theta)\n",
    "                \n",
    "                # Each time check to see if error not decreasing significantly before looping back through\n",
    "            if ((num_iterations > 1) & ~('None' is self.tol)): # Can only check if not the first pass\n",
    "                if abs(error-previous_error) < self.tol:\n",
    "                    break # Break out if we are not improving our error significantly\n",
    "            previous_error = error   \n",
    "        \n",
    "    # This definition fits the data using batch gradient descent\n",
    "    def fit_batch(self, X, Y, epochs=1000,tol='None',lambd=0.0,learning_rate=0.01,regularizer='None',early_stopping=False,validation_fraction=0.1,**kwargs):\n",
    "        # the “fit” method should use a weight vector “theta_hat” that contains the\n",
    "        # parameters for the model (one parameter for each feature and one for bias). The\n",
    "        # “theta_hat” should be a D column vector.\n",
    "        # Finally, it should update the model parameter “theta” to be used in “predict”\n",
    "        # method as follows.\n",
    "        # self.theta = theta_hat\n",
    "        \n",
    "        m = X.shape[0] # Number of elements in X\n",
    "        n = X.shape[1] # Number of columns in X\n",
    "        num_unique_classes=np.unique(Y).shape[0]\n",
    "        # Initialize theta as all zeros with correct dimensions\n",
    "        self.theta = np.zeros((n, num_unique_classes))\n",
    "        self.epochs=epochs\n",
    "        self.lambd=lambd\n",
    "        self.tol=tol\n",
    "        self.learning_rate=learning_rate\n",
    "        self.regularizer=regularizer\n",
    "        self.weights_class=[]\n",
    "        #run_stoc_gradient_descent(X,Y,num_unique_classes,m,n)#incorporate this\n",
    "        if early_stopping:\n",
    "            self.n_iter_step=100\n",
    "            true_epochs=self.epochs\n",
    "            self.epochs=self.n_iter_step\n",
    "            tot_steps=int(true_epochs/self.n_iter_step)\n",
    "            cut=int(len(X)*validation_fraction)\n",
    "            x_valid, x_subtrain = X[:cut], X[cut:]\n",
    "            y_valid, y_subtrain = Y[:cut], Y[cut:]\n",
    "            rows=x_subtrain.shape[0]\n",
    "            columns=x_subtrain.shape[1]\n",
    "            y_subtrain_one_hot=onehotlabels(y_subtrain.flatten())\n",
    "            y_valid_one_hot=onehotlabels(y_valid.flatten())\n",
    "            iter_step=[]\n",
    "            error_train=[]\n",
    "            error_valid=[]\n",
    "            self.weights_class=[]\n",
    "            for i in range(tot_steps):\n",
    "                self.run_batch_gradient_descent(x_subtrain,y_subtrain,num_unique_classes,rows,columns)#run for the first hundred epochs\n",
    "                y_predictions_train=self.pred_prob(x_subtrain)\n",
    "                y_predictions_test=self.pred_prob(x_valid)\n",
    "                error_train.append(cross_entropy_loss(y_subtrain_one_hot,y_predictions_train))\n",
    "                error_valid.append(cross_entropy_loss(y_valid_one_hot, y_predictions_test))\n",
    "                iter_step.append((i+1)*self.n_iter_step)\n",
    "                if i>1:\n",
    "                    if abs(error_valid[i-1])<abs(error_valid[i]):\n",
    "                        print('Hit the condition for early stopping')\n",
    "                        self.theta=prev_weights\n",
    "                        break\n",
    "                prev_weights = self.theta\n",
    "            self.epochs = true_epochs # Put back true epochs after loop is complete\n",
    "            # Below plots the “learning curve for train and test set”\n",
    "            plt.figure(figsize=(10, 6))   \n",
    "            plt.plot(iter_step, error_train, \"ro-\", alpha=1.0, linewidth=1.0, label=\"Train Cross-Entropy\")\n",
    "            plt.plot(iter_step, error_valid, \"bo-\", alpha=1.0, linewidth=1.0, label=\"Validation Cross-Entropy\")    \n",
    "            plt.legend(loc=\"best\", fontsize=14) \n",
    "            plt.xlabel(\"Iteration step\")\n",
    "            plt.ylabel(\"Cross-Entropy\")\n",
    "            plt.title(\"Early stopping curve\")\n",
    "            plt.show()\n",
    "        else:\n",
    "            self.run_batch_gradient_descent(X,Y,num_unique_classes,m,n)\n",
    "    \n",
    "    # This definition fits the data using stochastic gradient descent\n",
    "    def fit_stochastic(self, X, Y, epochs=1000,tol='None',lambd=0.0,learning_rate=0.01,regularizer='None',early_stopping=False,validation_fraction=0.1,**kwargs):\n",
    "        # the “fit” method should use a weight vector “theta_hat” that contains the\n",
    "        # parameters for the model (one parameter for each feature and one for bias). The\n",
    "        # “theta_hat” should be a D column vector.\n",
    "        # Finally, it should update the model parameter “theta” to be used in “predict”\n",
    "        # method as follows.\n",
    "        # self.theta = theta_hat\n",
    "        \n",
    "        m = X.shape[0] # Number of elements in X\n",
    "        n = X.shape[1] # Number of columns in X\n",
    "        num_unique_classes=np.unique(Y).shape[0]\n",
    "        # Initialize theta as all zeros with correct dimensions\n",
    "        self.theta = np.zeros((n, num_unique_classes))\n",
    "        self.epochs=epochs\n",
    "        self.lambd=lambd\n",
    "        self.tol=tol\n",
    "        self.learning_rate=learning_rate\n",
    "        self.regularizer=regularizer\n",
    "        self.weights_class=[]\n",
    "        #run_stoc_gradient_descent(X,Y,num_unique_classes,m,n)#incorporate this\n",
    "        if early_stopping:\n",
    "            self.n_iter_step=100\n",
    "            true_epochs=self.epochs\n",
    "            self.epochs=self.n_iter_step\n",
    "            tot_steps=int(true_epochs/self.n_iter_step)\n",
    "            cut=int(len(X)*validation_fraction)\n",
    "            x_valid, x_subtrain = X[:cut], X[cut:]\n",
    "            y_valid, y_subtrain = Y[:cut], Y[cut:]\n",
    "            rows=x_subtrain.shape[0]\n",
    "            columns=x_subtrain.shape[1]\n",
    "            y_subtrain_one_hot=onehotlabels(y_subtrain.flatten())\n",
    "            y_valid_one_hot=onehotlabels(y_valid.flatten())\n",
    "            iter_step=[]\n",
    "            error_train=[]\n",
    "            error_valid=[]\n",
    "            self.weights_class=[]\n",
    "            for i in range(tot_steps):\n",
    "                self.run_stochastic_gradient_descent(x_subtrain,y_subtrain,num_unique_classes,rows,columns)#run for the first hundred epochs\n",
    "                y_predictions_train=self.pred_prob(x_subtrain)\n",
    "                y_predictions_test=self.pred_prob(x_valid)\n",
    "                error_train.append(cross_entropy_loss(y_subtrain_one_hot,y_predictions_train))\n",
    "                error_valid.append(cross_entropy_loss(y_valid_one_hot, y_predictions_test))\n",
    "                iter_step.append((i+1)*self.n_iter_step)\n",
    "                if i>1:\n",
    "                    if abs(error_valid[i-1])<abs(error_valid[i]):\n",
    "                        print('Hit the condition for early stopping')\n",
    "                        self.theta=prev_weights\n",
    "                        break\n",
    "                prev_weights = self.theta\n",
    "            self.epochs = true_epochs # Put back true epochs after loop is complete\n",
    "            # Below plots the “learning curve for train and test set”\n",
    "            plt.figure(figsize=(10, 6))   \n",
    "            plt.plot(iter_step, error_train, \"ro-\", alpha=1.0, linewidth=1.0, label=\"Train Cross-Entropy\")\n",
    "            plt.plot(iter_step, error_valid, \"bo-\", alpha=1.0, linewidth=1.0, label=\"Validation Cross-Entropy\")    \n",
    "            plt.legend(loc=\"best\", fontsize=14) \n",
    "            plt.xlabel(\"Iteration step\")\n",
    "            plt.ylabel(\"Cross-Entropy\")\n",
    "            plt.title(\"Early stopping curve\")\n",
    "            plt.show()\n",
    "        else:\n",
    "            self.run_stochastic_gradient_descent(X,Y,num_unique_classes,m,n)\n",
    "    \n",
    "    # This calculates the probabilities for each class\n",
    "    def pred_prob(self, X):\n",
    "        pred_array=softmax(np.matmul(X,self.theta))\n",
    "        pred_array_normalized=pred_array/pred_array.sum(axis=1)[:,None]\n",
    "        return pred_array_normalized\n",
    "   \n",
    "    # This calculates the most likely label for each instance\n",
    "    def predict(self,X):\n",
    "        #this predicts class of the test set\n",
    "        score_array = self.pred_prob(X)\n",
    "        index_max=score_array.argmax(axis=1)\n",
    "        classes=[item[1] for item in self.theta]\n",
    "        y_pred_instance=np.asarray([classes[i] for i in index_max])\n",
    "        return index_max\n",
    " "
   ]
  },
  {
   "cell_type": "markdown",
   "metadata": {},
   "source": [
    "Load the iris dataset into memory"
   ]
  },
  {
   "cell_type": "code",
   "execution_count": 10,
   "metadata": {},
   "outputs": [
    {
     "name": "stdout",
     "output_type": "stream",
     "text": [
      "(150, 4)\n",
      "(150,)\n"
     ]
    }
   ],
   "source": [
    "# \n",
    "from sklearn import datasets\n",
    "iris = datasets.load_iris()\n",
    "# Data Matrix\n",
    "X = iris[\"data\"]\n",
    "print(X.shape)\n",
    "\n",
    "# Target Vector\n",
    "y = iris[\"target\"] \n",
    "print(y.shape)"
   ]
  },
  {
   "cell_type": "markdown",
   "metadata": {},
   "source": [
    "Apply one hot encoding to the labels"
   ]
  },
  {
   "cell_type": "code",
   "execution_count": 11,
   "metadata": {},
   "outputs": [],
   "source": [
    "Y_one_hot=onehotlabels(y)"
   ]
  },
  {
   "cell_type": "markdown",
   "metadata": {},
   "source": [
    "Convert target into a dataframe"
   ]
  },
  {
   "cell_type": "code",
   "execution_count": 12,
   "metadata": {},
   "outputs": [
    {
     "data": {
      "text/html": [
       "<div>\n",
       "<style scoped>\n",
       "    .dataframe tbody tr th:only-of-type {\n",
       "        vertical-align: middle;\n",
       "    }\n",
       "\n",
       "    .dataframe tbody tr th {\n",
       "        vertical-align: top;\n",
       "    }\n",
       "\n",
       "    .dataframe thead th {\n",
       "        text-align: right;\n",
       "    }\n",
       "</style>\n",
       "<table border=\"1\" class=\"dataframe\">\n",
       "  <thead>\n",
       "    <tr style=\"text-align: right;\">\n",
       "      <th></th>\n",
       "      <th>sepal length (cm)</th>\n",
       "      <th>sepal width (cm)</th>\n",
       "      <th>petal length (cm)</th>\n",
       "      <th>petal width (cm)</th>\n",
       "      <th>labels</th>\n",
       "    </tr>\n",
       "  </thead>\n",
       "  <tbody>\n",
       "    <tr>\n",
       "      <th>0</th>\n",
       "      <td>5.1</td>\n",
       "      <td>3.5</td>\n",
       "      <td>1.4</td>\n",
       "      <td>0.2</td>\n",
       "      <td>0.0</td>\n",
       "    </tr>\n",
       "    <tr>\n",
       "      <th>1</th>\n",
       "      <td>4.9</td>\n",
       "      <td>3.0</td>\n",
       "      <td>1.4</td>\n",
       "      <td>0.2</td>\n",
       "      <td>0.0</td>\n",
       "    </tr>\n",
       "    <tr>\n",
       "      <th>2</th>\n",
       "      <td>4.7</td>\n",
       "      <td>3.2</td>\n",
       "      <td>1.3</td>\n",
       "      <td>0.2</td>\n",
       "      <td>0.0</td>\n",
       "    </tr>\n",
       "    <tr>\n",
       "      <th>3</th>\n",
       "      <td>4.6</td>\n",
       "      <td>3.1</td>\n",
       "      <td>1.5</td>\n",
       "      <td>0.2</td>\n",
       "      <td>0.0</td>\n",
       "    </tr>\n",
       "    <tr>\n",
       "      <th>4</th>\n",
       "      <td>5.0</td>\n",
       "      <td>3.6</td>\n",
       "      <td>1.4</td>\n",
       "      <td>0.2</td>\n",
       "      <td>0.0</td>\n",
       "    </tr>\n",
       "  </tbody>\n",
       "</table>\n",
       "</div>"
      ],
      "text/plain": [
       "   sepal length (cm)  sepal width (cm)  petal length (cm)  petal width (cm)  \\\n",
       "0                5.1               3.5                1.4               0.2   \n",
       "1                4.9               3.0                1.4               0.2   \n",
       "2                4.7               3.2                1.3               0.2   \n",
       "3                4.6               3.1                1.5               0.2   \n",
       "4                5.0               3.6                1.4               0.2   \n",
       "\n",
       "   labels  \n",
       "0     0.0  \n",
       "1     0.0  \n",
       "2     0.0  \n",
       "3     0.0  \n",
       "4     0.0  "
      ]
     },
     "execution_count": 12,
     "metadata": {},
     "output_type": "execute_result"
    }
   ],
   "source": [
    "feature_names=list(iris.feature_names)\n",
    "feature_names.append('labels')\n",
    "\n",
    "y=y.reshape(-1,1)\n",
    "\n",
    "full_matrix=np.hstack((X,y))\n",
    "df_iris=pd.DataFrame(data=full_matrix,columns=feature_names)\n",
    "\n",
    "df_iris.head()"
   ]
  },
  {
   "cell_type": "markdown",
   "metadata": {},
   "source": [
    "Count up number of times each class occurs and display as a histogram"
   ]
  },
  {
   "cell_type": "code",
   "execution_count": 13,
   "metadata": {},
   "outputs": [
    {
     "name": "stdout",
     "output_type": "stream",
     "text": [
      "2.0    50\n",
      "1.0    50\n",
      "0.0    50\n",
      "Name: labels, dtype: int64\n"
     ]
    },
    {
     "data": {
      "image/png": "[encoded data removed]",
      "text/plain": [
       "<Figure size 864x432 with 1 Axes>"
      ]
     },
     "metadata": {
      "needs_background": "light"
     },
     "output_type": "display_data"
    }
   ],
   "source": [
    "label_counts = df_iris['labels'].value_counts()\n",
    "\n",
    "print(label_counts)\n",
    "# Plot the frequency found above in a histogram to visualize number of emails corresponding to categories\n",
    "# Note the categories chosen have been shuffled, so we do not know which number corresponds to which category\n",
    "\n",
    "plt.figure(figsize = (12,6))\n",
    "sns.barplot(label_counts.index, label_counts.values, alpha = 0.9)\n",
    "\n",
    "plt.xticks(rotation = 'vertical')\n",
    "plt.xlabel('Class Number', fontsize =12)\n",
    "plt.ylabel('Counts', fontsize = 12)\n",
    "plt.show()"
   ]
  },
  {
   "cell_type": "markdown",
   "metadata": {},
   "source": [
    "Calculate percentile of target columns along with other statistics"
   ]
  },
  {
   "cell_type": "code",
   "execution_count": 14,
   "metadata": {},
   "outputs": [
    {
     "data": {
      "text/html": [
       "<div>\n",
       "<style scoped>\n",
       "    .dataframe tbody tr th:only-of-type {\n",
       "        vertical-align: middle;\n",
       "    }\n",
       "\n",
       "    .dataframe tbody tr th {\n",
       "        vertical-align: top;\n",
       "    }\n",
       "\n",
       "    .dataframe thead th {\n",
       "        text-align: right;\n",
       "    }\n",
       "</style>\n",
       "<table border=\"1\" class=\"dataframe\">\n",
       "  <thead>\n",
       "    <tr style=\"text-align: right;\">\n",
       "      <th></th>\n",
       "      <th>sepal length (cm)</th>\n",
       "      <th>sepal width (cm)</th>\n",
       "      <th>petal length (cm)</th>\n",
       "      <th>petal width (cm)</th>\n",
       "      <th>labels</th>\n",
       "    </tr>\n",
       "  </thead>\n",
       "  <tbody>\n",
       "    <tr>\n",
       "      <th>count</th>\n",
       "      <td>150.000000</td>\n",
       "      <td>150.000000</td>\n",
       "      <td>150.000000</td>\n",
       "      <td>150.000000</td>\n",
       "      <td>150.000000</td>\n",
       "    </tr>\n",
       "    <tr>\n",
       "      <th>mean</th>\n",
       "      <td>5.843333</td>\n",
       "      <td>3.057333</td>\n",
       "      <td>3.758000</td>\n",
       "      <td>1.199333</td>\n",
       "      <td>1.000000</td>\n",
       "    </tr>\n",
       "    <tr>\n",
       "      <th>std</th>\n",
       "      <td>0.828066</td>\n",
       "      <td>0.435866</td>\n",
       "      <td>1.765298</td>\n",
       "      <td>0.762238</td>\n",
       "      <td>0.819232</td>\n",
       "    </tr>\n",
       "    <tr>\n",
       "      <th>min</th>\n",
       "      <td>4.300000</td>\n",
       "      <td>2.000000</td>\n",
       "      <td>1.000000</td>\n",
       "      <td>0.100000</td>\n",
       "      <td>0.000000</td>\n",
       "    </tr>\n",
       "    <tr>\n",
       "      <th>25%</th>\n",
       "      <td>5.100000</td>\n",
       "      <td>2.800000</td>\n",
       "      <td>1.600000</td>\n",
       "      <td>0.300000</td>\n",
       "      <td>0.000000</td>\n",
       "    </tr>\n",
       "    <tr>\n",
       "      <th>50%</th>\n",
       "      <td>5.800000</td>\n",
       "      <td>3.000000</td>\n",
       "      <td>4.350000</td>\n",
       "      <td>1.300000</td>\n",
       "      <td>1.000000</td>\n",
       "    </tr>\n",
       "    <tr>\n",
       "      <th>75%</th>\n",
       "      <td>6.400000</td>\n",
       "      <td>3.300000</td>\n",
       "      <td>5.100000</td>\n",
       "      <td>1.800000</td>\n",
       "      <td>2.000000</td>\n",
       "    </tr>\n",
       "    <tr>\n",
       "      <th>max</th>\n",
       "      <td>7.900000</td>\n",
       "      <td>4.400000</td>\n",
       "      <td>6.900000</td>\n",
       "      <td>2.500000</td>\n",
       "      <td>2.000000</td>\n",
       "    </tr>\n",
       "  </tbody>\n",
       "</table>\n",
       "</div>"
      ],
      "text/plain": [
       "       sepal length (cm)  sepal width (cm)  petal length (cm)  \\\n",
       "count         150.000000        150.000000         150.000000   \n",
       "mean            5.843333          3.057333           3.758000   \n",
       "std             0.828066          0.435866           1.765298   \n",
       "min             4.300000          2.000000           1.000000   \n",
       "25%             5.100000          2.800000           1.600000   \n",
       "50%             5.800000          3.000000           4.350000   \n",
       "75%             6.400000          3.300000           5.100000   \n",
       "max             7.900000          4.400000           6.900000   \n",
       "\n",
       "       petal width (cm)      labels  \n",
       "count        150.000000  150.000000  \n",
       "mean           1.199333    1.000000  \n",
       "std            0.762238    0.819232  \n",
       "min            0.100000    0.000000  \n",
       "25%            0.300000    0.000000  \n",
       "50%            1.300000    1.000000  \n",
       "75%            1.800000    2.000000  \n",
       "max            2.500000    2.000000  "
      ]
     },
     "execution_count": 14,
     "metadata": {},
     "output_type": "execute_result"
    }
   ],
   "source": [
    "df_iris.describe()"
   ]
  },
  {
   "cell_type": "markdown",
   "metadata": {},
   "source": [
    "Shuffle the order of the rows"
   ]
  },
  {
   "cell_type": "code",
   "execution_count": 15,
   "metadata": {},
   "outputs": [],
   "source": [
    "df_iris = df_iris.sample(frac=1)"
   ]
  },
  {
   "cell_type": "markdown",
   "metadata": {},
   "source": [
    "Initialize functions to display correlation and covariance with pairwise plots for features"
   ]
  },
  {
   "cell_type": "code",
   "execution_count": 16,
   "metadata": {},
   "outputs": [],
   "source": [
    "from scipy import stats\n",
    "def corrfunc(x, y, **kws):\n",
    "    r, _ = stats.pearsonr(x, y)\n",
    "    ax = plt.gca()\n",
    "    ax.annotate(\"r = {:.2f}\".format(r), xy=(.1, .6), xycoords=ax.transAxes, size = 24)\n",
    "# This is a definition to create the pairwise seaborn plots\n",
    "def create_pairwise_plots(df):\n",
    "    cmap = sns.cubehelix_palette(light=1, dark = 0.1, hue = 0.5, as_cmap=True)\n",
    "    sns.set_context(font_scale=2)\n",
    "    g = sns.PairGrid(df) # Set up pair grid\n",
    "    g.map_upper(plt.scatter, s=10, color = 'red') # Set up scatter plot on the upper triangle\n",
    "    g.map_diag(sns.distplot, kde=False, color = 'red') # Set up distribution on the diagonal\n",
    "    g.map_lower(sns.kdeplot, cmap = cmap) # Include density Plot on the lower triangle\n",
    "    g.map_lower(corrfunc); # Add correlation coefficients to density plots on the lower triangle  "
   ]
  },
  {
   "cell_type": "markdown",
   "metadata": {},
   "source": [
    "Create pairwise plots"
   ]
  },
  {
   "cell_type": "code",
   "execution_count": 17,
   "metadata": {},
   "outputs": [
    {
     "data": {
      "image/png": "[encoded data removed]",
      "text/plain": [
       "<Figure size 900x900 with 30 Axes>"
      ]
     },
     "metadata": {
      "needs_background": "light"
     },
     "output_type": "display_data"
    }
   ],
   "source": [
    "create_pairwise_plots(df_iris)    "
   ]
  },
  {
   "cell_type": "markdown",
   "metadata": {},
   "source": [
    "Drop the redundant feature"
   ]
  },
  {
   "cell_type": "code",
   "execution_count": 18,
   "metadata": {},
   "outputs": [
    {
     "data": {
      "text/html": [
       "<div>\n",
       "<style scoped>\n",
       "    .dataframe tbody tr th:only-of-type {\n",
       "        vertical-align: middle;\n",
       "    }\n",
       "\n",
       "    .dataframe tbody tr th {\n",
       "        vertical-align: top;\n",
       "    }\n",
       "\n",
       "    .dataframe thead th {\n",
       "        text-align: right;\n",
       "    }\n",
       "</style>\n",
       "<table border=\"1\" class=\"dataframe\">\n",
       "  <thead>\n",
       "    <tr style=\"text-align: right;\">\n",
       "      <th></th>\n",
       "      <th>sepal length (cm)</th>\n",
       "      <th>sepal width (cm)</th>\n",
       "      <th>petal width (cm)</th>\n",
       "      <th>labels</th>\n",
       "    </tr>\n",
       "  </thead>\n",
       "  <tbody>\n",
       "    <tr>\n",
       "      <th>52</th>\n",
       "      <td>6.9</td>\n",
       "      <td>3.1</td>\n",
       "      <td>1.5</td>\n",
       "      <td>1.0</td>\n",
       "    </tr>\n",
       "    <tr>\n",
       "      <th>23</th>\n",
       "      <td>5.1</td>\n",
       "      <td>3.3</td>\n",
       "      <td>0.5</td>\n",
       "      <td>0.0</td>\n",
       "    </tr>\n",
       "    <tr>\n",
       "      <th>129</th>\n",
       "      <td>7.2</td>\n",
       "      <td>3.0</td>\n",
       "      <td>1.6</td>\n",
       "      <td>2.0</td>\n",
       "    </tr>\n",
       "    <tr>\n",
       "      <th>120</th>\n",
       "      <td>6.9</td>\n",
       "      <td>3.2</td>\n",
       "      <td>2.3</td>\n",
       "      <td>2.0</td>\n",
       "    </tr>\n",
       "    <tr>\n",
       "      <th>62</th>\n",
       "      <td>6.0</td>\n",
       "      <td>2.2</td>\n",
       "      <td>1.0</td>\n",
       "      <td>1.0</td>\n",
       "    </tr>\n",
       "  </tbody>\n",
       "</table>\n",
       "</div>"
      ],
      "text/plain": [
       "     sepal length (cm)  sepal width (cm)  petal width (cm)  labels\n",
       "52                 6.9               3.1               1.5     1.0\n",
       "23                 5.1               3.3               0.5     0.0\n",
       "129                7.2               3.0               1.6     2.0\n",
       "120                6.9               3.2               2.3     2.0\n",
       "62                 6.0               2.2               1.0     1.0"
      ]
     },
     "execution_count": 18,
     "metadata": {},
     "output_type": "execute_result"
    }
   ],
   "source": [
    "df_iris = df_iris.drop(columns=['petal length (cm)'])\n",
    "\n",
    "df_iris.head()"
   ]
  },
  {
   "cell_type": "markdown",
   "metadata": {},
   "source": [
    "Scale the data"
   ]
  },
  {
   "cell_type": "code",
   "execution_count": 19,
   "metadata": {},
   "outputs": [],
   "source": [
    "from sklearn.preprocessing import StandardScaler\n",
    "# Features are separated in to X\n",
    "X = df_iris.drop(columns='labels') # Remove quality\n",
    "X = X.values\n",
    "\n",
    "# Target Vector (labels) is set as Y\n",
    "Y = df_iris[\"labels\"]\n",
    "Y = Y.values.astype(np.int).reshape((X.shape[0], 1))\n",
    "\n",
    "# This box scales the feature matrix\n",
    "scaler = StandardScaler().fit(X)\n",
    "X = scaler.transform(X)"
   ]
  },
  {
   "cell_type": "markdown",
   "metadata": {},
   "source": [
    "Create definition to add intercept"
   ]
  },
  {
   "cell_type": "code",
   "execution_count": 20,
   "metadata": {},
   "outputs": [],
   "source": [
    "def add_intercept(X):\n",
    "        intercept=np.ones((X.shape[0],1))\n",
    "        return np.concatenate((intercept,X),axis=1)"
   ]
  },
  {
   "cell_type": "markdown",
   "metadata": {},
   "source": [
    "This box creates definition to partition data into training and testing sets"
   ]
  },
  {
   "cell_type": "code",
   "execution_count": 21,
   "metadata": {},
   "outputs": [],
   "source": [
    "def partion(X,Y,t,random_state):\n",
    "    np.random.seed(seed=random_state)\n",
    "    num_rows = X.shape[0]\n",
    "    test_size = int(t * num_rows)\n",
    "    row_vec = list(range(0,num_rows))\n",
    "    np.random.shuffle(row_vec) # randomize the ordering\n",
    "    test_rows = row_vec[0 : test_size]\n",
    "    \n",
    "    train_rows = row_vec[test_size+1:len(row_vec)-1]\n",
    "    \n",
    "    # Now define x and y for training and testing\n",
    "    X_test = X[test_rows,:]\n",
    "    X_train = X[train_rows,:]\n",
    "    Y_test = Y[test_rows]\n",
    "    Y_train = Y[train_rows]\n",
    "    return X_test,X_train,Y_test,Y_train"
   ]
  },
  {
   "cell_type": "markdown",
   "metadata": {},
   "source": [
    "Partition the data into testing and training sets"
   ]
  },
  {
   "cell_type": "code",
   "execution_count": 22,
   "metadata": {},
   "outputs": [
    {
     "name": "stdout",
     "output_type": "stream",
     "text": [
      "(30, 3)\n",
      "(118, 3)\n",
      "(30, 1)\n",
      "(118, 1)\n"
     ]
    }
   ],
   "source": [
    "random_state = 24 # Used for seeding random generator in function\n",
    "t = 0.20 # Fraction of data to keep in testing set\n",
    "X_test,X_train,Y_test,Y_train = partion(X,Y,t,random_state)\n",
    "\n",
    "print(X_test.shape)\n",
    "print(X_train.shape)\n",
    "print(Y_test.shape)\n",
    "print(Y_train.shape)\n",
    "\n",
    "# Add intercept to both features\n",
    "X_test=add_intercept(X_test)\n",
    "X_train=add_intercept(X_train)\n",
    "\n",
    "Y_test=np.reshape(Y_test,[-1])"
   ]
  },
  {
   "cell_type": "markdown",
   "metadata": {},
   "source": [
    "Used by Kfold function to split up data sent in into correct pieces"
   ]
  },
  {
   "cell_type": "code",
   "execution_count": 23,
   "metadata": {},
   "outputs": [],
   "source": [
    "def split_data_folds(folds,data,labels,random_state):\n",
    "    np.random.seed(seed=random_state)\n",
    "    num_rows=data.shape[0]\n",
    "    row_vec = list(range(0,num_rows))\n",
    "    np.random.shuffle(row_vec) # randomize the ordering\n",
    "    data=data[row_vec,:]\n",
    "    labels=labels[row_vec]\n",
    "    fold_size=int(data.shape[0]/folds) # Number of rows in each set\n",
    "    fold_list=[]\n",
    "    for i in range(folds):\n",
    "        data_fold=data[i*fold_size:(i+1)*fold_size,:]\n",
    "        labels_fold=labels[i*fold_size:(i+1)*fold_size]\n",
    "        fold_list.append((data_fold,labels_fold))\n",
    "    return fold_list "
   ]
  },
  {
   "cell_type": "markdown",
   "metadata": {},
   "source": [
    "Function which performs k-fold cross-validation"
   ]
  },
  {
   "cell_type": "code",
   "execution_count": 24,
   "metadata": {},
   "outputs": [],
   "source": [
    "def kFold(folds, data, labels, model, model_args, error_function):\n",
    "    random_state=42\n",
    "    dataset_split=split_data_folds(folds,data,labels,random_state)\n",
    "    kwargs={}\n",
    "    error_per_fold=[]\n",
    "    preds_per_fold=[]\n",
    "    dict_per_fold={}\n",
    "    keys=[]\n",
    "    \n",
    "    for i in range(folds):\n",
    "        X_split_test=dataset_split[i][0]\n",
    "        Y_split_test=dataset_split[i][-1]\n",
    "        X_split_train=dataset_split[~i][0]\n",
    "        Y_split_train=dataset_split[~i][-1]\n",
    "        \n",
    "        fit_function=model[0]\n",
    "        predict_function=model[1]\n",
    "        \n",
    "        fit_function(X_split_train,Y_split_train, *model_args,**kwargs)\n",
    "        \n",
    "        naive_train_predictions=predict_function(X_split_train)# this is a list of lists\n",
    "        naive_test_predictions=predict_function(X_split_test)# this is a list of lists\n",
    "        \n",
    "        test_preds = naive_test_predictions\n",
    "        train_preds = naive_train_predictions\n",
    "        \n",
    "        cost_fun_test=error_function(Y_split_test.flatten(),test_preds.flatten())\n",
    "        cost_fun_train=error_function(Y_split_train,train_preds)\n",
    "        error_per_fold.append((cost_fun_train,cost_fun_test))\n",
    "        preds_per_fold.append((test_preds,Y_split_test))\n",
    "        keys.append(i)\n",
    "    \n",
    "    values=[[p1, p2] for idx1, p1 in enumerate(preds_per_fold) for idx2, p2 in enumerate(error_per_fold) if idx1==idx2]\n",
    "    dict_per_fold=dict(zip(keys, values))\n",
    "    return dict_per_fold"
   ]
  },
  {
   "cell_type": "markdown",
   "metadata": {},
   "source": [
    "In the below block we perform K-Fold Cross-Fold Validation using Batch Gradient Descent to find the optimal hyperparameters.<br>"
   ]
  },
  {
   "cell_type": "code",
   "execution_count": 25,
   "metadata": {},
   "outputs": [
    {
     "name": "stdout",
     "output_type": "stream",
     "text": [
      "Looking at combination 1 of 180\n",
      "Looking at combination 2 of 180\n",
      "Looking at combination 3 of 180\n",
      "Looking at combination 4 of 180\n",
      "Looking at combination 5 of 180\n",
      "Looking at combination 6 of 180\n",
      "Looking at combination 7 of 180\n",
      "Looking at combination 8 of 180\n",
      "Looking at combination 9 of 180\n",
      "Looking at combination 10 of 180\n",
      "Looking at combination 11 of 180\n",
      "Looking at combination 12 of 180\n",
      "Looking at combination 13 of 180\n",
      "Looking at combination 14 of 180\n",
      "Looking at combination 15 of 180\n",
      "Looking at combination 16 of 180\n",
      "Looking at combination 17 of 180\n",
      "Looking at combination 18 of 180\n",
      "Looking at combination 19 of 180\n",
      "Looking at combination 20 of 180\n",
      "Looking at combination 21 of 180\n",
      "Looking at combination 22 of 180\n",
      "Looking at combination 23 of 180\n",
      "Looking at combination 24 of 180\n",
      "Looking at combination 25 of 180\n",
      "Looking at combination 26 of 180\n",
      "Looking at combination 27 of 180\n",
      "Looking at combination 28 of 180\n",
      "Looking at combination 29 of 180\n",
      "Looking at combination 30 of 180\n",
      "Looking at combination 31 of 180\n",
      "Looking at combination 32 of 180\n",
      "Looking at combination 33 of 180\n",
      "Looking at combination 34 of 180\n",
      "Looking at combination 35 of 180\n",
      "Looking at combination 36 of 180\n",
      "Looking at combination 37 of 180\n",
      "Looking at combination 38 of 180\n",
      "Looking at combination 39 of 180\n",
      "Looking at combination 40 of 180\n",
      "Looking at combination 41 of 180\n",
      "Looking at combination 42 of 180\n",
      "Looking at combination 43 of 180\n",
      "Looking at combination 44 of 180\n",
      "Looking at combination 45 of 180\n",
      "Looking at combination 46 of 180\n",
      "Looking at combination 47 of 180\n",
      "Looking at combination 48 of 180\n",
      "Looking at combination 49 of 180\n",
      "Looking at combination 50 of 180\n",
      "Looking at combination 51 of 180\n",
      "Looking at combination 52 of 180\n",
      "Looking at combination 53 of 180\n",
      "Looking at combination 54 of 180\n",
      "Looking at combination 55 of 180\n",
      "Looking at combination 56 of 180\n",
      "Looking at combination 57 of 180\n",
      "Looking at combination 58 of 180\n",
      "Looking at combination 59 of 180\n",
      "Looking at combination 60 of 180\n",
      "Looking at combination 61 of 180\n",
      "Looking at combination 62 of 180\n",
      "Looking at combination 63 of 180\n",
      "Looking at combination 64 of 180\n",
      "Looking at combination 65 of 180\n",
      "Looking at combination 66 of 180\n",
      "Looking at combination 67 of 180\n",
      "Looking at combination 68 of 180\n",
      "Looking at combination 69 of 180\n",
      "Looking at combination 70 of 180\n",
      "Looking at combination 71 of 180\n",
      "Looking at combination 72 of 180\n",
      "Looking at combination 73 of 180\n",
      "Looking at combination 74 of 180\n",
      "Looking at combination 75 of 180\n",
      "Looking at combination 76 of 180\n",
      "Looking at combination 77 of 180\n",
      "Looking at combination 78 of 180\n",
      "Looking at combination 79 of 180\n",
      "Looking at combination 80 of 180\n",
      "Looking at combination 81 of 180\n",
      "Looking at combination 82 of 180\n",
      "Looking at combination 83 of 180\n",
      "Looking at combination 84 of 180\n",
      "Looking at combination 85 of 180\n",
      "Looking at combination 86 of 180\n",
      "Looking at combination 87 of 180\n",
      "Looking at combination 88 of 180\n",
      "Looking at combination 89 of 180\n",
      "Looking at combination 90 of 180\n",
      "Looking at combination 91 of 180\n",
      "Looking at combination 92 of 180\n",
      "Looking at combination 93 of 180\n",
      "Looking at combination 94 of 180\n",
      "Looking at combination 95 of 180\n",
      "Looking at combination 96 of 180\n",
      "Looking at combination 97 of 180\n",
      "Looking at combination 98 of 180\n",
      "Looking at combination 99 of 180\n",
      "Looking at combination 100 of 180\n",
      "Looking at combination 101 of 180\n",
      "Looking at combination 102 of 180\n",
      "Looking at combination 103 of 180\n",
      "Looking at combination 104 of 180\n",
      "Looking at combination 105 of 180\n",
      "Looking at combination 106 of 180\n",
      "Looking at combination 107 of 180\n",
      "Looking at combination 108 of 180\n",
      "Looking at combination 109 of 180\n",
      "Looking at combination 110 of 180\n",
      "Looking at combination 111 of 180\n",
      "Looking at combination 112 of 180\n",
      "Looking at combination 113 of 180\n",
      "Looking at combination 114 of 180\n",
      "Looking at combination 115 of 180\n",
      "Looking at combination 116 of 180\n",
      "Looking at combination 117 of 180\n",
      "Looking at combination 118 of 180\n",
      "Looking at combination 119 of 180\n",
      "Looking at combination 120 of 180\n",
      "Looking at combination 121 of 180\n",
      "Looking at combination 122 of 180\n",
      "Looking at combination 123 of 180\n",
      "Looking at combination 124 of 180\n",
      "Looking at combination 125 of 180\n",
      "Looking at combination 126 of 180\n",
      "Looking at combination 127 of 180\n",
      "Looking at combination 128 of 180\n",
      "Looking at combination 129 of 180\n",
      "Looking at combination 130 of 180\n",
      "Looking at combination 131 of 180\n",
      "Looking at combination 132 of 180\n",
      "Looking at combination 133 of 180\n",
      "Looking at combination 134 of 180\n",
      "Looking at combination 135 of 180\n",
      "Looking at combination 136 of 180\n",
      "Looking at combination 137 of 180\n",
      "Looking at combination 138 of 180\n",
      "Looking at combination 139 of 180\n",
      "Looking at combination 140 of 180\n",
      "Looking at combination 141 of 180\n",
      "Looking at combination 142 of 180\n",
      "Looking at combination 143 of 180\n",
      "Looking at combination 144 of 180\n",
      "Looking at combination 145 of 180\n",
      "Looking at combination 146 of 180\n",
      "Looking at combination 147 of 180\n",
      "Looking at combination 148 of 180\n",
      "Looking at combination 149 of 180\n",
      "Looking at combination 150 of 180\n",
      "Looking at combination 151 of 180\n",
      "Looking at combination 152 of 180\n",
      "Looking at combination 153 of 180\n",
      "Looking at combination 154 of 180\n",
      "Looking at combination 155 of 180\n",
      "Looking at combination 156 of 180\n",
      "Looking at combination 157 of 180\n",
      "Looking at combination 158 of 180\n",
      "Looking at combination 159 of 180\n",
      "Looking at combination 160 of 180\n",
      "Looking at combination 161 of 180\n",
      "Looking at combination 162 of 180\n",
      "Looking at combination 163 of 180\n",
      "Looking at combination 164 of 180\n",
      "Looking at combination 165 of 180\n",
      "Looking at combination 166 of 180\n",
      "Looking at combination 167 of 180\n",
      "Looking at combination 168 of 180\n",
      "Looking at combination 169 of 180\n",
      "Looking at combination 170 of 180\n",
      "Looking at combination 171 of 180\n",
      "Looking at combination 172 of 180\n",
      "Looking at combination 173 of 180\n",
      "Looking at combination 174 of 180\n",
      "Looking at combination 175 of 180\n",
      "Looking at combination 176 of 180\n",
      "Looking at combination 177 of 180\n",
      "Looking at combination 178 of 180\n",
      "Looking at combination 179 of 180\n",
      "Looking at combination 180 of 180\n",
      "\n",
      "\n",
      "    Regularization Fncn Learning Rate Regularization Param Tolerance  \\\n",
      "0                    l1           0.1                  1.0     0.001   \n",
      "1                    l1           0.1                  1.0    0.0001   \n",
      "2                    l1           0.1                  1.0     1e-05   \n",
      "3                    l1           0.1                  1.0     1e-06   \n",
      "4                    l1           0.1                  1.0     1e-07   \n",
      "5                    l2           0.1                  1.0     0.001   \n",
      "6                    l2           0.1                  1.0    0.0001   \n",
      "7                    l2           0.1                  1.0     1e-05   \n",
      "8                    l2           0.1                  1.0     1e-06   \n",
      "9                    l2           0.1                  1.0     1e-07   \n",
      "10                   l1          0.01                  1.0     0.001   \n",
      "11                   l1          0.01                  1.0    0.0001   \n",
      "12                   l1          0.01                  1.0     1e-05   \n",
      "13                   l1          0.01                  1.0     1e-06   \n",
      "14                   l1          0.01                  1.0     1e-07   \n",
      "15                   l2          0.01                  1.0     0.001   \n",
      "16                   l2          0.01                  1.0    0.0001   \n",
      "17                   l2          0.01                  1.0     1e-05   \n",
      "18                   l2          0.01                  1.0     1e-06   \n",
      "19                   l2          0.01                  1.0     1e-07   \n",
      "20                   l1         0.001                  1.0     0.001   \n",
      "21                   l1         0.001                  1.0    0.0001   \n",
      "22                   l1         0.001                  1.0     1e-05   \n",
      "23                   l1         0.001                  1.0     1e-06   \n",
      "24                   l1         0.001                  1.0     1e-07   \n",
      "25                   l2         0.001                  1.0     0.001   \n",
      "26                   l2         0.001                  1.0    0.0001   \n",
      "27                   l2         0.001                  1.0     1e-05   \n",
      "28                   l2         0.001                  1.0     1e-06   \n",
      "29                   l2         0.001                  1.0     1e-07   \n",
      "..                  ...           ...                  ...       ...   \n",
      "150                  l1           0.1                  0.0     0.001   \n",
      "151                  l1           0.1                  0.0    0.0001   \n",
      "152                  l1           0.1                  0.0     1e-05   \n",
      "153                  l1           0.1                  0.0     1e-06   \n",
      "154                  l1           0.1                  0.0     1e-07   \n",
      "155                  l2           0.1                  0.0     0.001   \n",
      "156                  l2           0.1                  0.0    0.0001   \n",
      "157                  l2           0.1                  0.0     1e-05   \n",
      "158                  l2           0.1                  0.0     1e-06   \n",
      "159                  l2           0.1                  0.0     1e-07   \n",
      "160                  l1          0.01                  0.0     0.001   \n",
      "161                  l1          0.01                  0.0    0.0001   \n",
      "162                  l1          0.01                  0.0     1e-05   \n",
      "163                  l1          0.01                  0.0     1e-06   \n",
      "164                  l1          0.01                  0.0     1e-07   \n",
      "165                  l2          0.01                  0.0     0.001   \n",
      "166                  l2          0.01                  0.0    0.0001   \n",
      "167                  l2          0.01                  0.0     1e-05   \n",
      "168                  l2          0.01                  0.0     1e-06   \n",
      "169                  l2          0.01                  0.0     1e-07   \n",
      "170                  l1         0.001                  0.0     0.001   \n",
      "171                  l1         0.001                  0.0    0.0001   \n",
      "172                  l1         0.001                  0.0     1e-05   \n",
      "173                  l1         0.001                  0.0     1e-06   \n",
      "174                  l1         0.001                  0.0     1e-07   \n",
      "175                  l2         0.001                  0.0     0.001   \n",
      "176                  l2         0.001                  0.0    0.0001   \n",
      "177                  l2         0.001                  0.0     1e-05   \n",
      "178                  l2         0.001                  0.0     1e-06   \n",
      "179                  l2         0.001                  0.0     1e-07   \n",
      "\n",
      "    Accuracy-From Testing Sets Accuracy-From Training Sets  \n",
      "0           0.8108108108108109          0.8648648648648649  \n",
      "1           0.8108108108108109          0.8581081081081081  \n",
      "2           0.8378378378378378          0.8581081081081081  \n",
      "3           0.8378378378378378          0.8581081081081081  \n",
      "4           0.8378378378378378          0.8581081081081081  \n",
      "5           0.8108108108108109          0.8648648648648649  \n",
      "6           0.8108108108108109          0.8581081081081081  \n",
      "7           0.8378378378378378          0.8581081081081081  \n",
      "8           0.8378378378378378          0.8581081081081081  \n",
      "9           0.8378378378378378          0.8581081081081081  \n",
      "10          0.8108108108108109          0.8581081081081081  \n",
      "11          0.8108108108108109          0.8648648648648649  \n",
      "12          0.8108108108108109          0.8648648648648649  \n",
      "13          0.8108108108108109          0.8648648648648649  \n",
      "14          0.8378378378378378          0.8581081081081081  \n",
      "15          0.8108108108108109          0.8581081081081081  \n",
      "16          0.8108108108108109          0.8648648648648649  \n",
      "17          0.8108108108108109          0.8648648648648649  \n",
      "18          0.8108108108108109          0.8648648648648649  \n",
      "19          0.8378378378378378          0.8581081081081081  \n",
      "20          0.8243243243243243          0.8445945945945946  \n",
      "21          0.8108108108108109          0.8581081081081081  \n",
      "22          0.8108108108108109          0.8648648648648649  \n",
      "23          0.8108108108108109          0.8648648648648649  \n",
      "24          0.8108108108108109          0.8648648648648649  \n",
      "25          0.8243243243243243          0.8445945945945946  \n",
      "26          0.8108108108108109          0.8581081081081081  \n",
      "27          0.8108108108108109          0.8648648648648649  \n",
      "28          0.8108108108108109          0.8648648648648649  \n",
      "29          0.8108108108108109          0.8648648648648649  \n",
      "..                         ...                         ...  \n",
      "150          0.831081081081081          0.8445945945945946  \n",
      "151         0.8378378378378378          0.8445945945945946  \n",
      "152         0.8378378378378378          0.8445945945945946  \n",
      "153         0.8378378378378378          0.8445945945945946  \n",
      "154         0.8378378378378378          0.8445945945945946  \n",
      "155          0.831081081081081          0.8445945945945946  \n",
      "156         0.8378378378378378          0.8445945945945946  \n",
      "157         0.8378378378378378          0.8445945945945946  \n",
      "158         0.8378378378378378          0.8445945945945946  \n",
      "159         0.8378378378378378          0.8445945945945946  \n",
      "160         0.8040540540540541          0.8648648648648649  \n",
      "161          0.831081081081081          0.8445945945945946  \n",
      "162         0.8378378378378378          0.8445945945945946  \n",
      "163         0.8378378378378378          0.8445945945945946  \n",
      "164         0.8378378378378378          0.8445945945945946  \n",
      "165         0.8040540540540541          0.8648648648648649  \n",
      "166          0.831081081081081          0.8445945945945946  \n",
      "167         0.8378378378378378          0.8445945945945946  \n",
      "168         0.8378378378378378          0.8445945945945946  \n",
      "169         0.8378378378378378          0.8445945945945946  \n",
      "170         0.8108108108108107          0.8581081081081081  \n",
      "171         0.8040540540540541          0.8648648648648649  \n",
      "172          0.831081081081081          0.8445945945945946  \n",
      "173          0.831081081081081          0.8445945945945946  \n",
      "174          0.831081081081081          0.8445945945945946  \n",
      "175         0.8108108108108107          0.8581081081081081  \n",
      "176         0.8040540540540541          0.8648648648648649  \n",
      "177          0.831081081081081          0.8445945945945946  \n",
      "178          0.831081081081081          0.8445945945945946  \n",
      "179          0.831081081081081          0.8445945945945946  \n",
      "\n",
      "[180 rows x 6 columns]\n",
      "\n",
      "\n",
      "Below are the values corresponding to the largest Accuracy from the testing sets during cross-validation\n",
      "    Regularization Fncn Learning Rate Regularization Param Tolerance  \\\n",
      "2                    l1           0.1                  1.0     1e-05   \n",
      "3                    l1           0.1                  1.0     1e-06   \n",
      "4                    l1           0.1                  1.0     1e-07   \n",
      "7                    l2           0.1                  1.0     1e-05   \n",
      "8                    l2           0.1                  1.0     1e-06   \n",
      "9                    l2           0.1                  1.0     1e-07   \n",
      "14                   l1          0.01                  1.0     1e-07   \n",
      "19                   l2          0.01                  1.0     1e-07   \n",
      "34                   l1           0.1                  0.1     1e-07   \n",
      "39                   l2           0.1                  0.1     1e-07   \n",
      "61                   l1           0.1                 0.01    0.0001   \n",
      "62                   l1           0.1                 0.01     1e-05   \n",
      "63                   l1           0.1                 0.01     1e-06   \n",
      "64                   l1           0.1                 0.01     1e-07   \n",
      "66                   l2           0.1                 0.01    0.0001   \n",
      "67                   l2           0.1                 0.01     1e-05   \n",
      "68                   l2           0.1                 0.01     1e-06   \n",
      "69                   l2           0.1                 0.01     1e-07   \n",
      "72                   l1          0.01                 0.01     1e-05   \n",
      "73                   l1          0.01                 0.01     1e-06   \n",
      "74                   l1          0.01                 0.01     1e-07   \n",
      "77                   l2          0.01                 0.01     1e-05   \n",
      "78                   l2          0.01                 0.01     1e-06   \n",
      "79                   l2          0.01                 0.01     1e-07   \n",
      "91                   l1           0.1                0.001    0.0001   \n",
      "92                   l1           0.1                0.001     1e-05   \n",
      "93                   l1           0.1                0.001     1e-06   \n",
      "94                   l1           0.1                0.001     1e-07   \n",
      "96                   l2           0.1                0.001    0.0001   \n",
      "97                   l2           0.1                0.001     1e-05   \n",
      "..                  ...           ...                  ...       ...   \n",
      "108                  l2          0.01                0.001     1e-06   \n",
      "109                  l2          0.01                0.001     1e-07   \n",
      "121                  l1           0.1               0.0001    0.0001   \n",
      "122                  l1           0.1               0.0001     1e-05   \n",
      "123                  l1           0.1               0.0001     1e-06   \n",
      "124                  l1           0.1               0.0001     1e-07   \n",
      "126                  l2           0.1               0.0001    0.0001   \n",
      "127                  l2           0.1               0.0001     1e-05   \n",
      "128                  l2           0.1               0.0001     1e-06   \n",
      "129                  l2           0.1               0.0001     1e-07   \n",
      "132                  l1          0.01               0.0001     1e-05   \n",
      "133                  l1          0.01               0.0001     1e-06   \n",
      "134                  l1          0.01               0.0001     1e-07   \n",
      "137                  l2          0.01               0.0001     1e-05   \n",
      "138                  l2          0.01               0.0001     1e-06   \n",
      "139                  l2          0.01               0.0001     1e-07   \n",
      "151                  l1           0.1                  0.0    0.0001   \n",
      "152                  l1           0.1                  0.0     1e-05   \n",
      "153                  l1           0.1                  0.0     1e-06   \n",
      "154                  l1           0.1                  0.0     1e-07   \n",
      "156                  l2           0.1                  0.0    0.0001   \n",
      "157                  l2           0.1                  0.0     1e-05   \n",
      "158                  l2           0.1                  0.0     1e-06   \n",
      "159                  l2           0.1                  0.0     1e-07   \n",
      "162                  l1          0.01                  0.0     1e-05   \n",
      "163                  l1          0.01                  0.0     1e-06   \n",
      "164                  l1          0.01                  0.0     1e-07   \n",
      "167                  l2          0.01                  0.0     1e-05   \n",
      "168                  l2          0.01                  0.0     1e-06   \n",
      "169                  l2          0.01                  0.0     1e-07   \n",
      "\n",
      "    Accuracy-From Testing Sets Accuracy-From Training Sets  \n",
      "2           0.8378378378378378          0.8581081081081081  \n",
      "3           0.8378378378378378          0.8581081081081081  \n",
      "4           0.8378378378378378          0.8581081081081081  \n",
      "7           0.8378378378378378          0.8581081081081081  \n",
      "8           0.8378378378378378          0.8581081081081081  \n",
      "9           0.8378378378378378          0.8581081081081081  \n",
      "14          0.8378378378378378          0.8581081081081081  \n",
      "19          0.8378378378378378          0.8581081081081081  \n",
      "34          0.8378378378378378          0.8445945945945946  \n",
      "39          0.8378378378378378          0.8445945945945946  \n",
      "61          0.8378378378378378          0.8445945945945946  \n",
      "62          0.8378378378378378          0.8445945945945946  \n",
      "63          0.8378378378378378          0.8445945945945946  \n",
      "64          0.8378378378378378          0.8445945945945946  \n",
      "66          0.8378378378378378          0.8445945945945946  \n",
      "67          0.8378378378378378          0.8445945945945946  \n",
      "68          0.8378378378378378          0.8445945945945946  \n",
      "69          0.8378378378378378          0.8445945945945946  \n",
      "72          0.8378378378378378          0.8445945945945946  \n",
      "73          0.8378378378378378          0.8445945945945946  \n",
      "74          0.8378378378378378          0.8445945945945946  \n",
      "77          0.8378378378378378          0.8445945945945946  \n",
      "78          0.8378378378378378          0.8445945945945946  \n",
      "79          0.8378378378378378          0.8445945945945946  \n",
      "91          0.8378378378378378          0.8445945945945946  \n",
      "92          0.8378378378378378          0.8445945945945946  \n",
      "93          0.8378378378378378          0.8445945945945946  \n",
      "94          0.8378378378378378          0.8445945945945946  \n",
      "96          0.8378378378378378          0.8445945945945946  \n",
      "97          0.8378378378378378          0.8445945945945946  \n",
      "..                         ...                         ...  \n",
      "108         0.8378378378378378          0.8445945945945946  \n",
      "109         0.8378378378378378          0.8445945945945946  \n",
      "121         0.8378378378378378          0.8445945945945946  \n",
      "122         0.8378378378378378          0.8445945945945946  \n",
      "123         0.8378378378378378          0.8445945945945946  \n",
      "124         0.8378378378378378          0.8445945945945946  \n",
      "126         0.8378378378378378          0.8445945945945946  \n",
      "127         0.8378378378378378          0.8445945945945946  \n",
      "128         0.8378378378378378          0.8445945945945946  \n",
      "129         0.8378378378378378          0.8445945945945946  \n",
      "132         0.8378378378378378          0.8445945945945946  \n",
      "133         0.8378378378378378          0.8445945945945946  \n",
      "134         0.8378378378378378          0.8445945945945946  \n",
      "137         0.8378378378378378          0.8445945945945946  \n",
      "138         0.8378378378378378          0.8445945945945946  \n",
      "139         0.8378378378378378          0.8445945945945946  \n",
      "151         0.8378378378378378          0.8445945945945946  \n",
      "152         0.8378378378378378          0.8445945945945946  \n",
      "153         0.8378378378378378          0.8445945945945946  \n",
      "154         0.8378378378378378          0.8445945945945946  \n",
      "156         0.8378378378378378          0.8445945945945946  \n",
      "157         0.8378378378378378          0.8445945945945946  \n",
      "158         0.8378378378378378          0.8445945945945946  \n",
      "159         0.8378378378378378          0.8445945945945946  \n",
      "162         0.8378378378378378          0.8445945945945946  \n",
      "163         0.8378378378378378          0.8445945945945946  \n",
      "164         0.8378378378378378          0.8445945945945946  \n",
      "167         0.8378378378378378          0.8445945945945946  \n",
      "168         0.8378378378378378          0.8445945945945946  \n",
      "169         0.8378378378378378          0.8445945945945946  \n",
      "\n",
      "[66 rows x 6 columns]\n"
     ]
    }
   ],
   "source": [
    "# In this block we perform k-fold cross-validation\n",
    "\n",
    "folds = 4 # Number of folds to use for cross validation\n",
    "lambd = [1.0, 0.1, 0.01, 0.001, 0.0001,0.0]\n",
    "tol = [0.001, 0.0001, 0.00001, 0.000001, 0.0000001]\n",
    "learning_rate = [0.1, 0.01, 0.001]\n",
    "# regularizer = ['l1', 'l2']\n",
    "regularizer = ['l1','l2']\n",
    "\n",
    "epochs = 100000 # We choose to use this value\n",
    "error_function = find_accuracy# Error function to use for evaluation\n",
    "early_stopping=False\n",
    "validation_fraction=0.2\n",
    "\n",
    "model_performance_list = np.empty([1,6]) # Initialize as empty\n",
    "num_comb = len(lambd)*len(learning_rate)*len(regularizer)*len(tol)\n",
    "count = 1\n",
    "error_fold_train = []\n",
    "error_fold_test = []\n",
    "for lambd_curr in lambd:\n",
    "    for learning_rate_curr in learning_rate:\n",
    "        for regularizer_curr in regularizer:\n",
    "            for tol_curr in tol:\n",
    "                print('Looking at combination %i of %i' %(count,num_comb))\n",
    "                count+=1\n",
    "                model_name = Softmax_Regression()\n",
    "                model = [model_name.fit_batch,model_name.predict]\n",
    "                model_args = [epochs,tol_curr,lambd_curr,learning_rate_curr,regularizer_curr,early_stopping,validation_fraction]\n",
    "\n",
    "                dict_temp = kFold(folds, X, Y, model, model_args, error_function)\n",
    "                error_fold_train = []\n",
    "                error_fold_test = []\n",
    "\n",
    "                for kk,jj in dict_temp.items():\n",
    "                    error_fold_train.append(jj[-1][0]) # Holds error for training sets\n",
    "                    error_fold_test.append(jj[-1][1]) # Holds error for testing sets\n",
    "                eavg_train=np.mean(np.asarray(error_fold_train)) # Holds MSE for training sets\n",
    "                std_error_train = np.std(np.asarray(error_fold_train))\n",
    "                eavg_test=np.mean(np.asarray(error_fold_test)) # Holds MSE for training sets\n",
    "                std_error_test = np.std(np.asarray(error_fold_test))\n",
    "                # Below holds (lambd,learning_rate,regularizer,MSE_avg,std_dev_avg)\n",
    "                model_performance_list=np.vstack((model_performance_list,[regularizer_curr,learning_rate_curr,lambd_curr,tol_curr,eavg_test,eavg_train]))\n",
    "\n",
    "# Remove first row from model_performance_list as it contained the random values used to initialize it\n",
    "model_performance_list=np.delete(model_performance_list, [0], axis=0)\n",
    "\n",
    "# Save full output of s-fold cross-validation to disk for use in report\n",
    "df_s_fold = pd.DataFrame(model_performance_list,columns=['Regularization Fncn', 'Learning Rate', 'Regularization Param', 'Tolerance', 'Accuracy-From Testing Sets','Accuracy-From Training Sets']) # Convert to pandas dataframe\n",
    "\n",
    "print('\\n')\n",
    "print(df_s_fold)\n",
    "\n",
    "# Replace any inf or nan with np.nan for dropping in next step\n",
    "df_s_fold=df_s_fold.replace('inf', np.nan)\n",
    "df_s_fold=df_s_fold.replace('nan', np.nan)\n",
    "# Now drop all rows containing NaN\n",
    "df_s_fold=df_s_fold.dropna()\n",
    "print('\\n')\n",
    "print('Below are the values corresponding to the largest Accuracy from the testing sets during cross-validation')\n",
    "# Now find row index corresponding to lowest MSE from testing sets\n",
    "print(df_s_fold[df_s_fold['Accuracy-From Testing Sets']==df_s_fold['Accuracy-From Testing Sets'].max()])"
   ]
  },
  {
   "cell_type": "markdown",
   "metadata": {},
   "source": [
    "From the above results it is clear that we have many options for this Logistic Regression model using Batch Gradient Descent.<br>\n",
    "We will choose to utilize l1 regularization with a learning rate of 0.01, a regularization parameter of 1.0, and a tolerance of 0.001."
   ]
  },
  {
   "cell_type": "markdown",
   "metadata": {},
   "source": [
    "Helper function for confusion_matrix which creates an easy to read confusion matrix"
   ]
  },
  {
   "cell_type": "code",
   "execution_count": 26,
   "metadata": {},
   "outputs": [],
   "source": [
    "def plot_confusion_matrix(df_confusion, title='Confusion matrix', cmap=plt.cm.gray_r):\n",
    "    plt.matshow(df_confusion, cmap=cmap) # imshow\n",
    "    #plt.title(title)\n",
    "    plt.colorbar()\n",
    "    tick_marks = np.arange(len(df_confusion.columns))\n",
    "    plt.xticks(tick_marks, df_confusion.columns, rotation=45)\n",
    "    plt.yticks(tick_marks, df_confusion.index)\n",
    "    #plt.tight_layout()\n",
    "    plt.ylabel(df_confusion.index.name)\n",
    "    plt.xlabel(df_confusion.columns.name)"
   ]
  },
  {
   "cell_type": "markdown",
   "metadata": {},
   "source": [
    "Calculates and plots a confusion matrix for provided predictions"
   ]
  },
  {
   "cell_type": "code",
   "execution_count": 27,
   "metadata": {},
   "outputs": [],
   "source": [
    "def confusion_matrix(Y,Y_hat):\n",
    "    # calculates and plots confusion matrix\n",
    "    y_actu = pd.Series(Y, name='Actual')\n",
    "    y_pred = pd.Series(Y_hat, name='Predicted')\n",
    "    df_confusion = pd.crosstab(y_actu, y_pred)\n",
    "    plot_confusion_matrix(df_confusion)\n",
    "    return df_confusion"
   ]
  },
  {
   "cell_type": "markdown",
   "metadata": {},
   "source": [
    "Counts up number of TP, TN, FP, and FN"
   ]
  },
  {
   "cell_type": "code",
   "execution_count": 28,
   "metadata": {},
   "outputs": [],
   "source": [
    "def eval_bins(label,prediction):\n",
    "    true_positives = 0\n",
    "    false_positives = 0\n",
    "    true_negatives = 0\n",
    "    false_negatives = 0\n",
    "    for i in range(0,len(label)):\n",
    "        if prediction[i]==1:\n",
    "            if prediction[i]==label[i]:\n",
    "                true_positives+=1\n",
    "            else:\n",
    "                false_positives+=1\n",
    "        else:\n",
    "            if prediction[i]==label[i]:\n",
    "                true_negatives+=1\n",
    "            else:\n",
    "                false_negatives+=1\n",
    "    return  true_positives,true_negatives,false_positives,false_negatives"
   ]
  },
  {
   "cell_type": "markdown",
   "metadata": {},
   "source": [
    "Below are thus the parameters we will use for the test set"
   ]
  },
  {
   "cell_type": "code",
   "execution_count": 29,
   "metadata": {},
   "outputs": [],
   "source": [
    "kwargs={}\n",
    "epochs = 100000 # We choose to use this value\n",
    "tol = 0.0001 # We choose to use this ending condition\n",
    "lambd = 1.0 # Regularizer Parameter\n",
    "learning_rate = 0.01\n",
    "regularizer = 'l1'\n",
    "early_stop_cond=False"
   ]
  },
  {
   "cell_type": "markdown",
   "metadata": {},
   "source": [
    "Now fit the model"
   ]
  },
  {
   "cell_type": "code",
   "execution_count": 30,
   "metadata": {},
   "outputs": [],
   "source": [
    "log_reg_model=Softmax_Regression()\n",
    "log_reg_model.fit_batch(X_train,Y_train,epochs,tol,lambd,learning_rate,regularizer,early_stopping=early_stop_cond,validation_fraction=0.1,**kwargs)"
   ]
  },
  {
   "cell_type": "markdown",
   "metadata": {},
   "source": [
    "Now make predictions on the test set"
   ]
  },
  {
   "cell_type": "code",
   "execution_count": 31,
   "metadata": {},
   "outputs": [],
   "source": [
    "y_test_pred=log_reg_model.predict(X_test)"
   ]
  },
  {
   "cell_type": "markdown",
   "metadata": {},
   "source": [
    "Evaluate these predictions"
   ]
  },
  {
   "cell_type": "code",
   "execution_count": 32,
   "metadata": {},
   "outputs": [
    {
     "name": "stdout",
     "output_type": "stream",
     "text": [
      "The accuracy of the prediction on the test set is 0.933333\n",
      "The corresponding confusion matrix is below:\n"
     ]
    },
    {
     "data": {
      "text/html": [
       "<div>\n",
       "<style scoped>\n",
       "    .dataframe tbody tr th:only-of-type {\n",
       "        vertical-align: middle;\n",
       "    }\n",
       "\n",
       "    .dataframe tbody tr th {\n",
       "        vertical-align: top;\n",
       "    }\n",
       "\n",
       "    .dataframe thead th {\n",
       "        text-align: right;\n",
       "    }\n",
       "</style>\n",
       "<table border=\"1\" class=\"dataframe\">\n",
       "  <thead>\n",
       "    <tr style=\"text-align: right;\">\n",
       "      <th>Predicted</th>\n",
       "      <th>0</th>\n",
       "      <th>1</th>\n",
       "      <th>2</th>\n",
       "    </tr>\n",
       "    <tr>\n",
       "      <th>Actual</th>\n",
       "      <th></th>\n",
       "      <th></th>\n",
       "      <th></th>\n",
       "    </tr>\n",
       "  </thead>\n",
       "  <tbody>\n",
       "    <tr>\n",
       "      <th>0</th>\n",
       "      <td>12</td>\n",
       "      <td>0</td>\n",
       "      <td>0</td>\n",
       "    </tr>\n",
       "    <tr>\n",
       "      <th>1</th>\n",
       "      <td>0</td>\n",
       "      <td>7</td>\n",
       "      <td>0</td>\n",
       "    </tr>\n",
       "    <tr>\n",
       "      <th>2</th>\n",
       "      <td>0</td>\n",
       "      <td>2</td>\n",
       "      <td>9</td>\n",
       "    </tr>\n",
       "  </tbody>\n",
       "</table>\n",
       "</div>"
      ],
      "text/plain": [
       "Predicted   0  1  2\n",
       "Actual             \n",
       "0          12  0  0\n",
       "1           0  7  0\n",
       "2           0  2  9"
      ]
     },
     "execution_count": 32,
     "metadata": {},
     "output_type": "execute_result"
    },
    {
     "data": {
      "image/png": "[encoded data removed]",
      "text/plain": [
       "<Figure size 288x288 with 2 Axes>"
      ]
     },
     "metadata": {
      "needs_background": "light"
     },
     "output_type": "display_data"
    }
   ],
   "source": [
    "accuracy=find_accuracy(y_test_pred,Y_test)\n",
    "\n",
    "print('The accuracy of the prediction on the test set is %f' %accuracy)\n",
    "print('The corresponding confusion matrix is below:')\n",
    "\n",
    "confusion_matrix(Y_test,y_test_pred)"
   ]
  },
  {
   "cell_type": "markdown",
   "metadata": {},
   "source": [
    "Now we implement early stopping using gradient descent.<br>\n",
    "We will run for the same conditions as above, and report the results exactly the same.<br>\n",
    "We thus reset early_stop_cond to True."
   ]
  },
  {
   "cell_type": "code",
   "execution_count": 33,
   "metadata": {},
   "outputs": [],
   "source": [
    "early_stop_cond=True"
   ]
  },
  {
   "cell_type": "markdown",
   "metadata": {},
   "source": [
    "Fit the model"
   ]
  },
  {
   "cell_type": "code",
   "execution_count": 34,
   "metadata": {},
   "outputs": [
    {
     "name": "stdout",
     "output_type": "stream",
     "text": [
      "Hit the condition for early stopping\n"
     ]
    },
    {
     "data": {
      "image/png": "[encoded data removed]",
      "text/plain": [
       "<Figure size 720x432 with 1 Axes>"
      ]
     },
     "metadata": {
      "needs_background": "light"
     },
     "output_type": "display_data"
    }
   ],
   "source": [
    "log_reg_model=Softmax_Regression()\n",
    "log_reg_model.fit_batch(X_train,Y_train,epochs,tol,lambd,learning_rate,regularizer,early_stopping=early_stop_cond,validation_fraction=0.1,**kwargs)"
   ]
  },
  {
   "cell_type": "markdown",
   "metadata": {},
   "source": [
    "Make predictions on the test set"
   ]
  },
  {
   "cell_type": "code",
   "execution_count": 35,
   "metadata": {},
   "outputs": [],
   "source": [
    "y_test_pred=log_reg_model.predict(X_test)"
   ]
  },
  {
   "cell_type": "markdown",
   "metadata": {},
   "source": [
    "Evaluate these predictions"
   ]
  },
  {
   "cell_type": "code",
   "execution_count": 36,
   "metadata": {},
   "outputs": [
    {
     "name": "stdout",
     "output_type": "stream",
     "text": [
      "The accuracy of the prediction on the test set is 0.933333\n",
      "The corresponding confusion matrix is below:\n"
     ]
    },
    {
     "data": {
      "text/html": [
       "<div>\n",
       "<style scoped>\n",
       "    .dataframe tbody tr th:only-of-type {\n",
       "        vertical-align: middle;\n",
       "    }\n",
       "\n",
       "    .dataframe tbody tr th {\n",
       "        vertical-align: top;\n",
       "    }\n",
       "\n",
       "    .dataframe thead th {\n",
       "        text-align: right;\n",
       "    }\n",
       "</style>\n",
       "<table border=\"1\" class=\"dataframe\">\n",
       "  <thead>\n",
       "    <tr style=\"text-align: right;\">\n",
       "      <th>Predicted</th>\n",
       "      <th>0</th>\n",
       "      <th>1</th>\n",
       "      <th>2</th>\n",
       "    </tr>\n",
       "    <tr>\n",
       "      <th>Actual</th>\n",
       "      <th></th>\n",
       "      <th></th>\n",
       "      <th></th>\n",
       "    </tr>\n",
       "  </thead>\n",
       "  <tbody>\n",
       "    <tr>\n",
       "      <th>0</th>\n",
       "      <td>12</td>\n",
       "      <td>0</td>\n",
       "      <td>0</td>\n",
       "    </tr>\n",
       "    <tr>\n",
       "      <th>1</th>\n",
       "      <td>0</td>\n",
       "      <td>7</td>\n",
       "      <td>0</td>\n",
       "    </tr>\n",
       "    <tr>\n",
       "      <th>2</th>\n",
       "      <td>0</td>\n",
       "      <td>2</td>\n",
       "      <td>9</td>\n",
       "    </tr>\n",
       "  </tbody>\n",
       "</table>\n",
       "</div>"
      ],
      "text/plain": [
       "Predicted   0  1  2\n",
       "Actual             \n",
       "0          12  0  0\n",
       "1           0  7  0\n",
       "2           0  2  9"
      ]
     },
     "execution_count": 36,
     "metadata": {},
     "output_type": "execute_result"
    },
    {
     "data": {
      "image/png": "[encoded data removed]",
      "text/plain": [
       "<Figure size 288x288 with 2 Axes>"
      ]
     },
     "metadata": {
      "needs_background": "light"
     },
     "output_type": "display_data"
    }
   ],
   "source": [
    "accuracy=find_accuracy(y_test_pred,Y_test)\n",
    "\n",
    "print('The accuracy of the prediction on the test set is %f' %accuracy)\n",
    "print('The corresponding confusion matrix is below:')\n",
    "\n",
    "confusion_matrix(Y_test,y_test_pred)"
   ]
  },
  {
   "cell_type": "markdown",
   "metadata": {},
   "source": [
    "We now run K-Fold Cross-Validation over Logistic Regression Using Stochastic Gradient Descent"
   ]
  },
  {
   "cell_type": "code",
   "execution_count": 37,
   "metadata": {},
   "outputs": [
    {
     "name": "stdout",
     "output_type": "stream",
     "text": [
      "Looking at combination 1 of 180\n",
      "Looking at combination 2 of 180\n",
      "Looking at combination 3 of 180\n",
      "Looking at combination 4 of 180\n",
      "Looking at combination 5 of 180\n",
      "Looking at combination 6 of 180\n",
      "Looking at combination 7 of 180\n",
      "Looking at combination 8 of 180\n",
      "Looking at combination 9 of 180\n",
      "Looking at combination 10 of 180\n",
      "Looking at combination 11 of 180\n",
      "Looking at combination 12 of 180\n",
      "Looking at combination 13 of 180\n",
      "Looking at combination 14 of 180\n",
      "Looking at combination 15 of 180\n",
      "Looking at combination 16 of 180\n",
      "Looking at combination 17 of 180\n",
      "Looking at combination 18 of 180\n",
      "Looking at combination 19 of 180\n",
      "Looking at combination 20 of 180\n",
      "Looking at combination 21 of 180\n",
      "Looking at combination 22 of 180\n",
      "Looking at combination 23 of 180\n",
      "Looking at combination 24 of 180\n",
      "Looking at combination 25 of 180\n",
      "Looking at combination 26 of 180\n",
      "Looking at combination 27 of 180\n",
      "Looking at combination 28 of 180\n",
      "Looking at combination 29 of 180\n",
      "Looking at combination 30 of 180\n",
      "Looking at combination 31 of 180\n",
      "Looking at combination 32 of 180\n",
      "Looking at combination 33 of 180\n",
      "Looking at combination 34 of 180\n",
      "Looking at combination 35 of 180\n",
      "Looking at combination 36 of 180\n",
      "Looking at combination 37 of 180\n",
      "Looking at combination 38 of 180\n",
      "Looking at combination 39 of 180\n",
      "Looking at combination 40 of 180\n",
      "Looking at combination 41 of 180\n",
      "Looking at combination 42 of 180\n",
      "Looking at combination 43 of 180\n",
      "Looking at combination 44 of 180\n",
      "Looking at combination 45 of 180\n",
      "Looking at combination 46 of 180\n",
      "Looking at combination 47 of 180\n",
      "Looking at combination 48 of 180\n",
      "Looking at combination 49 of 180\n",
      "Looking at combination 50 of 180\n",
      "Looking at combination 51 of 180\n",
      "Looking at combination 52 of 180\n",
      "Looking at combination 53 of 180\n",
      "Looking at combination 54 of 180\n",
      "Looking at combination 55 of 180\n",
      "Looking at combination 56 of 180\n",
      "Looking at combination 57 of 180\n",
      "Looking at combination 58 of 180\n",
      "Looking at combination 59 of 180\n",
      "Looking at combination 60 of 180\n",
      "Looking at combination 61 of 180\n",
      "Looking at combination 62 of 180\n",
      "Looking at combination 63 of 180\n",
      "Looking at combination 64 of 180\n",
      "Looking at combination 65 of 180\n",
      "Looking at combination 66 of 180\n",
      "Looking at combination 67 of 180\n",
      "Looking at combination 68 of 180\n",
      "Looking at combination 69 of 180\n",
      "Looking at combination 70 of 180\n",
      "Looking at combination 71 of 180\n",
      "Looking at combination 72 of 180\n",
      "Looking at combination 73 of 180\n",
      "Looking at combination 74 of 180\n",
      "Looking at combination 75 of 180\n",
      "Looking at combination 76 of 180\n",
      "Looking at combination 77 of 180\n",
      "Looking at combination 78 of 180\n",
      "Looking at combination 79 of 180\n",
      "Looking at combination 80 of 180\n",
      "Looking at combination 81 of 180\n",
      "Looking at combination 82 of 180\n",
      "Looking at combination 83 of 180\n",
      "Looking at combination 84 of 180\n",
      "Looking at combination 85 of 180\n",
      "Looking at combination 86 of 180\n",
      "Looking at combination 87 of 180\n",
      "Looking at combination 88 of 180\n",
      "Looking at combination 89 of 180\n",
      "Looking at combination 90 of 180\n",
      "Looking at combination 91 of 180\n",
      "Looking at combination 92 of 180\n",
      "Looking at combination 93 of 180\n",
      "Looking at combination 94 of 180\n",
      "Looking at combination 95 of 180\n",
      "Looking at combination 96 of 180\n",
      "Looking at combination 97 of 180\n",
      "Looking at combination 98 of 180\n",
      "Looking at combination 99 of 180\n",
      "Looking at combination 100 of 180\n",
      "Looking at combination 101 of 180\n",
      "Looking at combination 102 of 180\n",
      "Looking at combination 103 of 180\n",
      "Looking at combination 104 of 180\n",
      "Looking at combination 105 of 180\n",
      "Looking at combination 106 of 180\n",
      "Looking at combination 107 of 180\n",
      "Looking at combination 108 of 180\n",
      "Looking at combination 109 of 180\n",
      "Looking at combination 110 of 180\n",
      "Looking at combination 111 of 180\n",
      "Looking at combination 112 of 180\n",
      "Looking at combination 113 of 180\n",
      "Looking at combination 114 of 180\n",
      "Looking at combination 115 of 180\n",
      "Looking at combination 116 of 180\n",
      "Looking at combination 117 of 180\n",
      "Looking at combination 118 of 180\n",
      "Looking at combination 119 of 180\n",
      "Looking at combination 120 of 180\n",
      "Looking at combination 121 of 180\n",
      "Looking at combination 122 of 180\n",
      "Looking at combination 123 of 180\n",
      "Looking at combination 124 of 180\n",
      "Looking at combination 125 of 180\n",
      "Looking at combination 126 of 180\n",
      "Looking at combination 127 of 180\n",
      "Looking at combination 128 of 180\n",
      "Looking at combination 129 of 180\n",
      "Looking at combination 130 of 180\n",
      "Looking at combination 131 of 180\n",
      "Looking at combination 132 of 180\n",
      "Looking at combination 133 of 180\n",
      "Looking at combination 134 of 180\n",
      "Looking at combination 135 of 180\n",
      "Looking at combination 136 of 180\n",
      "Looking at combination 137 of 180\n",
      "Looking at combination 138 of 180\n",
      "Looking at combination 139 of 180\n",
      "Looking at combination 140 of 180\n",
      "Looking at combination 141 of 180\n",
      "Looking at combination 142 of 180\n",
      "Looking at combination 143 of 180\n",
      "Looking at combination 144 of 180\n",
      "Looking at combination 145 of 180\n",
      "Looking at combination 146 of 180\n",
      "Looking at combination 147 of 180\n",
      "Looking at combination 148 of 180\n",
      "Looking at combination 149 of 180\n",
      "Looking at combination 150 of 180\n",
      "Looking at combination 151 of 180\n",
      "Looking at combination 152 of 180\n",
      "Looking at combination 153 of 180\n",
      "Looking at combination 154 of 180\n",
      "Looking at combination 155 of 180\n",
      "Looking at combination 156 of 180\n",
      "Looking at combination 157 of 180\n",
      "Looking at combination 158 of 180\n",
      "Looking at combination 159 of 180\n",
      "Looking at combination 160 of 180\n",
      "Looking at combination 161 of 180\n",
      "Looking at combination 162 of 180\n",
      "Looking at combination 163 of 180\n",
      "Looking at combination 164 of 180\n",
      "Looking at combination 165 of 180\n",
      "Looking at combination 166 of 180\n",
      "Looking at combination 167 of 180\n",
      "Looking at combination 168 of 180\n",
      "Looking at combination 169 of 180\n",
      "Looking at combination 170 of 180\n",
      "Looking at combination 171 of 180\n",
      "Looking at combination 172 of 180\n",
      "Looking at combination 173 of 180\n",
      "Looking at combination 174 of 180\n",
      "Looking at combination 175 of 180\n",
      "Looking at combination 176 of 180\n",
      "Looking at combination 177 of 180\n",
      "Looking at combination 178 of 180\n",
      "Looking at combination 179 of 180\n",
      "Looking at combination 180 of 180\n",
      "\n",
      "\n",
      "    Regularization Fncn Learning Rate Regularization Param Tolerance  \\\n",
      "0                    l1           0.1                  1.0     0.001   \n",
      "1                    l1           0.1                  1.0    0.0001   \n",
      "2                    l1           0.1                  1.0     1e-05   \n",
      "3                    l1           0.1                  1.0     1e-06   \n",
      "4                    l1           0.1                  1.0     1e-07   \n",
      "5                    l2           0.1                  1.0     0.001   \n",
      "6                    l2           0.1                  1.0    0.0001   \n",
      "7                    l2           0.1                  1.0     1e-05   \n",
      "8                    l2           0.1                  1.0     1e-06   \n",
      "9                    l2           0.1                  1.0     1e-07   \n",
      "10                   l1          0.01                  1.0     0.001   \n",
      "11                   l1          0.01                  1.0    0.0001   \n",
      "12                   l1          0.01                  1.0     1e-05   \n",
      "13                   l1          0.01                  1.0     1e-06   \n",
      "14                   l1          0.01                  1.0     1e-07   \n",
      "15                   l2          0.01                  1.0     0.001   \n",
      "16                   l2          0.01                  1.0    0.0001   \n",
      "17                   l2          0.01                  1.0     1e-05   \n",
      "18                   l2          0.01                  1.0     1e-06   \n",
      "19                   l2          0.01                  1.0     1e-07   \n",
      "20                   l1         0.001                  1.0     0.001   \n",
      "21                   l1         0.001                  1.0    0.0001   \n",
      "22                   l1         0.001                  1.0     1e-05   \n",
      "23                   l1         0.001                  1.0     1e-06   \n",
      "24                   l1         0.001                  1.0     1e-07   \n",
      "25                   l2         0.001                  1.0     0.001   \n",
      "26                   l2         0.001                  1.0    0.0001   \n",
      "27                   l2         0.001                  1.0     1e-05   \n",
      "28                   l2         0.001                  1.0     1e-06   \n",
      "29                   l2         0.001                  1.0     1e-07   \n",
      "..                  ...           ...                  ...       ...   \n",
      "150                  l1           0.1                  0.0     0.001   \n",
      "151                  l1           0.1                  0.0    0.0001   \n",
      "152                  l1           0.1                  0.0     1e-05   \n",
      "153                  l1           0.1                  0.0     1e-06   \n",
      "154                  l1           0.1                  0.0     1e-07   \n",
      "155                  l2           0.1                  0.0     0.001   \n",
      "156                  l2           0.1                  0.0    0.0001   \n",
      "157                  l2           0.1                  0.0     1e-05   \n",
      "158                  l2           0.1                  0.0     1e-06   \n",
      "159                  l2           0.1                  0.0     1e-07   \n",
      "160                  l1          0.01                  0.0     0.001   \n",
      "161                  l1          0.01                  0.0    0.0001   \n",
      "162                  l1          0.01                  0.0     1e-05   \n",
      "163                  l1          0.01                  0.0     1e-06   \n",
      "164                  l1          0.01                  0.0     1e-07   \n",
      "165                  l2          0.01                  0.0     0.001   \n",
      "166                  l2          0.01                  0.0    0.0001   \n",
      "167                  l2          0.01                  0.0     1e-05   \n",
      "168                  l2          0.01                  0.0     1e-06   \n",
      "169                  l2          0.01                  0.0     1e-07   \n",
      "170                  l1         0.001                  0.0     0.001   \n",
      "171                  l1         0.001                  0.0    0.0001   \n",
      "172                  l1         0.001                  0.0     1e-05   \n",
      "173                  l1         0.001                  0.0     1e-06   \n",
      "174                  l1         0.001                  0.0     1e-07   \n",
      "175                  l2         0.001                  0.0     0.001   \n",
      "176                  l2         0.001                  0.0    0.0001   \n",
      "177                  l2         0.001                  0.0     1e-05   \n",
      "178                  l2         0.001                  0.0     1e-06   \n",
      "179                  l2         0.001                  0.0     1e-07   \n",
      "\n",
      "    Accuracy-From Testing Sets Accuracy-From Training Sets  \n",
      "0           0.8378378378378378          0.8445945945945946  \n",
      "1           0.8040540540540541          0.8648648648648649  \n",
      "2           0.7837837837837838          0.8716216216216217  \n",
      "3           0.8310810810810811          0.8513513513513513  \n",
      "4           0.8378378378378378          0.8581081081081081  \n",
      "5           0.8378378378378378          0.8445945945945946  \n",
      "6           0.8040540540540541          0.8648648648648649  \n",
      "7           0.7837837837837838          0.8716216216216217  \n",
      "8           0.8310810810810811          0.8513513513513513  \n",
      "9           0.8378378378378378          0.8581081081081081  \n",
      "10          0.8445945945945946          0.7905405405405406  \n",
      "11          0.8175675675675675          0.8581081081081081  \n",
      "12          0.8175675675675677          0.8513513513513513  \n",
      "13          0.8243243243243243          0.8513513513513513  \n",
      "14           0.831081081081081          0.8581081081081081  \n",
      "15          0.8445945945945946          0.7905405405405406  \n",
      "16          0.8175675675675675          0.8581081081081081  \n",
      "17          0.8175675675675677          0.8513513513513513  \n",
      "18          0.8243243243243243          0.8513513513513513  \n",
      "19           0.831081081081081          0.8581081081081081  \n",
      "20          0.8040540540540541          0.7702702702702704  \n",
      "21          0.8040540540540542          0.8513513513513513  \n",
      "22          0.8243243243243242          0.8378378378378378  \n",
      "23          0.8243243243243243          0.8581081081081081  \n",
      "24          0.8175675675675675          0.8513513513513513  \n",
      "25          0.8040540540540541          0.7702702702702704  \n",
      "26          0.8040540540540542          0.8513513513513513  \n",
      "27          0.8243243243243242          0.8378378378378378  \n",
      "28          0.8243243243243243          0.8581081081081081  \n",
      "29          0.8175675675675675          0.8513513513513513  \n",
      "..                         ...                         ...  \n",
      "150         0.8175675675675675          0.8175675675675675  \n",
      "151         0.8310810810810811          0.8581081081081081  \n",
      "152         0.8108108108108109          0.8648648648648649  \n",
      "153         0.8108108108108109          0.8445945945945946  \n",
      "154         0.8175675675675675          0.8513513513513513  \n",
      "155         0.8175675675675675          0.8175675675675675  \n",
      "156         0.8310810810810811          0.8581081081081081  \n",
      "157         0.8108108108108109          0.8648648648648649  \n",
      "158         0.8108108108108109          0.8445945945945946  \n",
      "159         0.8175675675675675          0.8513513513513513  \n",
      "160          0.831081081081081          0.8445945945945946  \n",
      "161         0.8040540540540541          0.8513513513513513  \n",
      "162         0.8243243243243245          0.8581081081081081  \n",
      "163          0.831081081081081          0.8378378378378379  \n",
      "164         0.8378378378378378          0.8445945945945945  \n",
      "165          0.831081081081081          0.8445945945945946  \n",
      "166         0.8040540540540541          0.8513513513513513  \n",
      "167         0.8243243243243245          0.8581081081081081  \n",
      "168          0.831081081081081          0.8378378378378379  \n",
      "169         0.8378378378378378          0.8445945945945945  \n",
      "170         0.8310810810810811          0.8175675675675675  \n",
      "171         0.8243243243243243          0.8513513513513514  \n",
      "172         0.8243243243243243          0.8378378378378378  \n",
      "173         0.8108108108108109          0.8648648648648649  \n",
      "174         0.8175675675675677          0.8648648648648649  \n",
      "175         0.8310810810810811          0.8175675675675675  \n",
      "176         0.8243243243243243          0.8513513513513514  \n",
      "177         0.8243243243243243          0.8378378378378378  \n",
      "178         0.8108108108108109          0.8648648648648649  \n",
      "179         0.8175675675675677          0.8648648648648649  \n",
      "\n",
      "[180 rows x 6 columns]\n",
      "\n",
      "\n",
      "Below are the values corresponding to the largest Accuracy from the testing sets during cross-validation\n",
      "    Regularization Fncn Learning Rate Regularization Param Tolerance  \\\n",
      "122                  l1           0.1               0.0001     1e-05   \n",
      "123                  l1           0.1               0.0001     1e-06   \n",
      "124                  l1           0.1               0.0001     1e-07   \n",
      "127                  l2           0.1               0.0001     1e-05   \n",
      "128                  l2           0.1               0.0001     1e-06   \n",
      "129                  l2           0.1               0.0001     1e-07   \n",
      "\n",
      "    Accuracy-From Testing Sets Accuracy-From Training Sets  \n",
      "122         0.8513513513513514          0.8513513513513514  \n",
      "123         0.8513513513513514          0.8310810810810811  \n",
      "124         0.8513513513513514          0.8175675675675675  \n",
      "127         0.8513513513513514          0.8513513513513514  \n",
      "128         0.8513513513513514          0.8310810810810811  \n",
      "129         0.8513513513513514          0.8175675675675675  \n"
     ]
    }
   ],
   "source": [
    "folds = 4 # Number of folds to use for cross validation\n",
    "lambd = [1.0, 0.1, 0.01, 0.001, 0.0001,0.0]\n",
    "tol = [0.001, 0.0001, 0.00001, 0.000001, 0.0000001]\n",
    "learning_rate = [0.1, 0.01, 0.001]\n",
    "# regularizer = ['l1', 'l2']\n",
    "regularizer = ['l1','l2']\n",
    "\n",
    "epochs = 1000000 # We choose to use this value\n",
    "error_function = find_accuracy# Error function to use for evaluation\n",
    "early_stopping=False\n",
    "validation_fraction=0.2\n",
    "\n",
    "model_performance_list = np.empty([1,6]) # Initialize as empty\n",
    "num_comb = len(lambd)*len(learning_rate)*len(regularizer)*len(tol)\n",
    "count = 1\n",
    "error_fold_train = []\n",
    "error_fold_test = []\n",
    "for lambd_curr in lambd:\n",
    "    for learning_rate_curr in learning_rate:\n",
    "        for regularizer_curr in regularizer:\n",
    "            for tol_curr in tol:\n",
    "                print('Looking at combination %i of %i' %(count,num_comb))\n",
    "                count+=1\n",
    "                model_name = Softmax_Regression()\n",
    "                model = [model_name.fit_stochastic,model_name.predict]\n",
    "                model_args = [epochs,tol_curr,lambd_curr,learning_rate_curr,regularizer_curr,early_stopping,validation_fraction]\n",
    "\n",
    "                dict_temp = kFold(folds, X, Y, model, model_args, error_function)\n",
    "                error_fold_train = []\n",
    "                error_fold_test = []\n",
    "\n",
    "                for kk,jj in dict_temp.items():\n",
    "                    error_fold_train.append(jj[-1][0]) # Holds error for training sets\n",
    "                    error_fold_test.append(jj[-1][1]) # Holds error for testing sets\n",
    "                eavg_train=np.mean(np.asarray(error_fold_train)) # Holds MSE for training sets\n",
    "                std_error_train = np.std(np.asarray(error_fold_train))\n",
    "                eavg_test=np.mean(np.asarray(error_fold_test)) # Holds MSE for training sets\n",
    "                std_error_test = np.std(np.asarray(error_fold_test))\n",
    "                # Below holds (lambd,learning_rate,regularizer,MSE_avg,std_dev_avg)\n",
    "                model_performance_list=np.vstack((model_performance_list,[regularizer_curr,learning_rate_curr,lambd_curr,tol_curr,eavg_test,eavg_train]))\n",
    "#                 break\n",
    "#             break\n",
    "#         break\n",
    "#     break\n",
    "# Remove first row from model_performance_list as it contained the random values used to initialize it\n",
    "model_performance_list=np.delete(model_performance_list, [0], axis=0)\n",
    "\n",
    "# Save full output of s-fold cross-validation to disk for use in report\n",
    "df_s_fold = pd.DataFrame(model_performance_list,columns=['Regularization Fncn', 'Learning Rate', 'Regularization Param', 'Tolerance', 'Accuracy-From Testing Sets','Accuracy-From Training Sets']) # Convert to pandas dataframe\n",
    "# df_s_fold.tos_csv(reposLink + '/' 'df_s_fold-batch_grad.csv')\n",
    "\n",
    "print('\\n')\n",
    "print(df_s_fold)\n",
    "\n",
    "# Replace any inf or nan with np.nan for dropping in next step\n",
    "df_s_fold=df_s_fold.replace('inf', np.nan)\n",
    "df_s_fold=df_s_fold.replace('nan', np.nan)\n",
    "# Now drop all rows containing NaN\n",
    "df_s_fold=df_s_fold.dropna()\n",
    "print('\\n')\n",
    "print('Below are the values corresponding to the largest Accuracy from the testing sets during cross-validation')\n",
    "# Now find row index corresponding to lowest MSE from testing sets\n",
    "print(df_s_fold[df_s_fold['Accuracy-From Testing Sets']==df_s_fold['Accuracy-From Testing Sets'].max()])"
   ]
  },
  {
   "cell_type": "markdown",
   "metadata": {},
   "source": [
    "From the above results it is clear that we have many options for this Logistic Regression model using Stochastic Gradient Descent.<br>\n",
    "We will choose to utilize l1 regularization with a learning rate of 0.1, a regularization parameter of 0.1, and a tolerance of 0.0001."
   ]
  },
  {
   "cell_type": "markdown",
   "metadata": {},
   "source": [
    "Below are thus the parameters we will use for the test set"
   ]
  },
  {
   "cell_type": "code",
   "execution_count": 38,
   "metadata": {},
   "outputs": [],
   "source": [
    "kwargs={}\n",
    "epochs = 1000000 # We choose to use this value\n",
    "tol = 0.0001 # We choose to use this ending condition\n",
    "lambd = 0.1 # Regularizer Parameter\n",
    "learning_rate = 0.1\n",
    "regularizer = 'l1'\n",
    "early_stop_cond=False"
   ]
  },
  {
   "cell_type": "markdown",
   "metadata": {},
   "source": [
    "Now fit the model"
   ]
  },
  {
   "cell_type": "code",
   "execution_count": 39,
   "metadata": {
    "scrolled": true
   },
   "outputs": [],
   "source": [
    "log_reg_model=Softmax_Regression()\n",
    "log_reg_model.fit_stochastic(X_train,Y_train,epochs,tol,lambd,learning_rate,regularizer,early_stopping=early_stop_cond,validation_fraction=0.1,**kwargs)"
   ]
  },
  {
   "cell_type": "markdown",
   "metadata": {},
   "source": [
    "Now make predictions on the test set"
   ]
  },
  {
   "cell_type": "code",
   "execution_count": 40,
   "metadata": {},
   "outputs": [],
   "source": [
    "y_test_pred=log_reg_model.predict(X_test)"
   ]
  },
  {
   "cell_type": "markdown",
   "metadata": {},
   "source": [
    "Evaluate these predictions"
   ]
  },
  {
   "cell_type": "code",
   "execution_count": 41,
   "metadata": {},
   "outputs": [
    {
     "name": "stdout",
     "output_type": "stream",
     "text": [
      "The accuracy of the prediction on the test set is 0.933333\n",
      "The corresponding confusion matrix is below:\n"
     ]
    },
    {
     "data": {
      "text/html": [
       "<div>\n",
       "<style scoped>\n",
       "    .dataframe tbody tr th:only-of-type {\n",
       "        vertical-align: middle;\n",
       "    }\n",
       "\n",
       "    .dataframe tbody tr th {\n",
       "        vertical-align: top;\n",
       "    }\n",
       "\n",
       "    .dataframe thead th {\n",
       "        text-align: right;\n",
       "    }\n",
       "</style>\n",
       "<table border=\"1\" class=\"dataframe\">\n",
       "  <thead>\n",
       "    <tr style=\"text-align: right;\">\n",
       "      <th>Predicted</th>\n",
       "      <th>0</th>\n",
       "      <th>1</th>\n",
       "      <th>2</th>\n",
       "    </tr>\n",
       "    <tr>\n",
       "      <th>Actual</th>\n",
       "      <th></th>\n",
       "      <th></th>\n",
       "      <th></th>\n",
       "    </tr>\n",
       "  </thead>\n",
       "  <tbody>\n",
       "    <tr>\n",
       "      <th>0</th>\n",
       "      <td>12</td>\n",
       "      <td>0</td>\n",
       "      <td>0</td>\n",
       "    </tr>\n",
       "    <tr>\n",
       "      <th>1</th>\n",
       "      <td>0</td>\n",
       "      <td>7</td>\n",
       "      <td>0</td>\n",
       "    </tr>\n",
       "    <tr>\n",
       "      <th>2</th>\n",
       "      <td>0</td>\n",
       "      <td>2</td>\n",
       "      <td>9</td>\n",
       "    </tr>\n",
       "  </tbody>\n",
       "</table>\n",
       "</div>"
      ],
      "text/plain": [
       "Predicted   0  1  2\n",
       "Actual             \n",
       "0          12  0  0\n",
       "1           0  7  0\n",
       "2           0  2  9"
      ]
     },
     "execution_count": 41,
     "metadata": {},
     "output_type": "execute_result"
    },
    {
     "data": {
      "image/png": "[encoded data removed]",
      "text/plain": [
       "<Figure size 288x288 with 2 Axes>"
      ]
     },
     "metadata": {
      "needs_background": "light"
     },
     "output_type": "display_data"
    }
   ],
   "source": [
    "accuracy=find_accuracy(y_test_pred,Y_test)\n",
    "\n",
    "print('The accuracy of the prediction on the test set is %f' %accuracy)\n",
    "print('The corresponding confusion matrix is below:')\n",
    "\n",
    "confusion_matrix(Y_test,y_test_pred)"
   ]
  },
  {
   "cell_type": "markdown",
   "metadata": {},
   "source": [
    "This makes it appear that Stochastic Gradient Descent does not work as well as Batch Gradient Descent.<br>\n",
    "Perhaps this could be overcome by using k-fold validation with a greater set of values, but I have not been able to find a more effective combination.<br>\n",
    "The below results for early stopping make it appear likely that the above problems may actually be due to overfitting."
   ]
  },
  {
   "cell_type": "markdown",
   "metadata": {},
   "source": [
    "Now we implement early stopping using stochastic descent.<br>\n",
    "We will run for the same conditions as above, and report the results exactly the same.<br>\n",
    "We thus reset early_stop_cond to True."
   ]
  },
  {
   "cell_type": "code",
   "execution_count": 42,
   "metadata": {},
   "outputs": [],
   "source": [
    "early_stop_cond=True"
   ]
  },
  {
   "cell_type": "markdown",
   "metadata": {},
   "source": [
    "Now fit the model"
   ]
  },
  {
   "cell_type": "code",
   "execution_count": 43,
   "metadata": {},
   "outputs": [
    {
     "name": "stdout",
     "output_type": "stream",
     "text": [
      "Hit the condition for early stopping\n"
     ]
    },
    {
     "data": {
      "image/png": "[encoded data removed]",
      "text/plain": [
       "<Figure size 720x432 with 1 Axes>"
      ]
     },
     "metadata": {
      "needs_background": "light"
     },
     "output_type": "display_data"
    }
   ],
   "source": [
    "log_reg_model=Softmax_Regression()\n",
    "log_reg_model.fit_stochastic(X_train,Y_train,epochs,tol,lambd,learning_rate,regularizer,early_stopping=early_stop_cond,validation_fraction=0.1,**kwargs)"
   ]
  },
  {
   "cell_type": "markdown",
   "metadata": {},
   "source": [
    "Now make predictions on the test set"
   ]
  },
  {
   "cell_type": "code",
   "execution_count": 44,
   "metadata": {},
   "outputs": [],
   "source": [
    "y_test_pred=log_reg_model.predict(X_test)"
   ]
  },
  {
   "cell_type": "markdown",
   "metadata": {},
   "source": [
    "Evaluate these predictions"
   ]
  },
  {
   "cell_type": "code",
   "execution_count": 45,
   "metadata": {},
   "outputs": [
    {
     "name": "stdout",
     "output_type": "stream",
     "text": [
      "The accuracy of the prediction on the test set is 0.933333\n",
      "The corresponding confusion matrix is below:\n"
     ]
    },
    {
     "data": {
      "text/html": [
       "<div>\n",
       "<style scoped>\n",
       "    .dataframe tbody tr th:only-of-type {\n",
       "        vertical-align: middle;\n",
       "    }\n",
       "\n",
       "    .dataframe tbody tr th {\n",
       "        vertical-align: top;\n",
       "    }\n",
       "\n",
       "    .dataframe thead th {\n",
       "        text-align: right;\n",
       "    }\n",
       "</style>\n",
       "<table border=\"1\" class=\"dataframe\">\n",
       "  <thead>\n",
       "    <tr style=\"text-align: right;\">\n",
       "      <th>Predicted</th>\n",
       "      <th>0</th>\n",
       "      <th>1</th>\n",
       "      <th>2</th>\n",
       "    </tr>\n",
       "    <tr>\n",
       "      <th>Actual</th>\n",
       "      <th></th>\n",
       "      <th></th>\n",
       "      <th></th>\n",
       "    </tr>\n",
       "  </thead>\n",
       "  <tbody>\n",
       "    <tr>\n",
       "      <th>0</th>\n",
       "      <td>12</td>\n",
       "      <td>0</td>\n",
       "      <td>0</td>\n",
       "    </tr>\n",
       "    <tr>\n",
       "      <th>1</th>\n",
       "      <td>0</td>\n",
       "      <td>7</td>\n",
       "      <td>0</td>\n",
       "    </tr>\n",
       "    <tr>\n",
       "      <th>2</th>\n",
       "      <td>0</td>\n",
       "      <td>2</td>\n",
       "      <td>9</td>\n",
       "    </tr>\n",
       "  </tbody>\n",
       "</table>\n",
       "</div>"
      ],
      "text/plain": [
       "Predicted   0  1  2\n",
       "Actual             \n",
       "0          12  0  0\n",
       "1           0  7  0\n",
       "2           0  2  9"
      ]
     },
     "execution_count": 45,
     "metadata": {},
     "output_type": "execute_result"
    },
    {
     "data": {
      "image/png": "[encoded data removed]",
      "text/plain": [
       "<Figure size 288x288 with 2 Axes>"
      ]
     },
     "metadata": {
      "needs_background": "light"
     },
     "output_type": "display_data"
    }
   ],
   "source": [
    "accuracy=find_accuracy(y_test_pred,Y_test)\n",
    "\n",
    "print('The accuracy of the prediction on the test set is %f' %accuracy)\n",
    "print('The corresponding confusion matrix is below:')\n",
    "\n",
    "confusion_matrix(Y_test,y_test_pred)"
   ]
  },
  {
   "cell_type": "markdown",
   "metadata": {},
   "source": [
    "It appears that early stopping really make a small improvement with Stochastic Gradient Descent.<br>\n",
    "I would advise using it with this dataset."
   ]
  },
  {
   "cell_type": "code",
   "execution_count": null,
   "metadata": {},
   "outputs": [],
   "source": []
  }
 ],
 "metadata": {
  "kernelspec": {
   "display_name": "Python 3",
   "language": "python",
   "name": "python3"
  },
  "language_info": {
   "codemirror_mode": {
    "name": "ipython",
    "version": 3
   },
   "file_extension": ".py",
   "mimetype": "text/x-python",
   "name": "python",
   "nbconvert_exporter": "python",
   "pygments_lexer": "ipython3",
   "version": "3.6.8"
  }
 },
 "nbformat": 4,
 "nbformat_minor": 2
}
